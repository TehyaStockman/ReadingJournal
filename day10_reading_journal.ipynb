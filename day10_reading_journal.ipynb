{
 "cells": [
  {
   "cell_type": "markdown",
   "metadata": {},
   "source": [
    "# Day 10 Reading Journal\n",
    "\n",
    "This journal includes several required exercises, but it is meant to encourage active reading more generally.  You should use the journal to take detailed notes, catalog questions, and explore the content from Think Python deeply.\n",
    "\n",
    "Reading: Think Python Chapter 16, 17\n",
    "\n",
    "**Due: Thursday, February 25 at 12 noon**\n",
    "\n"
   ]
  },
  {
   "cell_type": "markdown",
   "metadata": {},
   "source": [
    "## [Chapter 16](http://www.greenteapress.com/thinkpython/html/thinkpython017.html)\n"
   ]
  },
  {
   "cell_type": "raw",
   "metadata": {},
   "source": [
    "pure functions: does not modify any of the objects passed through\n",
    "modifiers: modifies the objects passed through\n",
    "prototype and patch: come up with something, test/add to it until it works\n",
    "functional programming style\n",
    "planned development: high level of insight into problem makes it easier\n",
    "invariants: requirements that should always be true"
   ]
  },
  {
   "cell_type": "markdown",
   "metadata": {
    "is_question": true,
    "problem": "Exercise 16.2"
   },
   "source": [
    "### Exercise 2  \n",
    "\n",
    "Write a boolean function called `is_after` that takes two `Time` objects, `t1` and `t2`, and returns `True` if `t1` follows `t2` chronologically and `False` otherwise. Challenge: don’t use an `if` statement. "
   ]
  },
  {
   "cell_type": "code",
   "execution_count": 19,
   "metadata": {
    "collapsed": false,
    "solution": "Exercise 16.2"
   },
   "outputs": [
    {
     "name": "stdout",
     "output_type": "stream",
     "text": [
      "True\n",
      "05:24:13\n"
     ]
    }
   ],
   "source": [
    "class Time(object):\n",
    "\n",
    "    def __init__(self, hour, minute, second):\n",
    "        self.hour = hour\n",
    "        self.minute = minute\n",
    "        self.second = second\n",
    "        \n",
    "    def __str__(self):\n",
    "        time_string =  \"{:02}:{:02}:{:02}\".format(self.hour, self.minute, self.second)\n",
    "        return time_string\n",
    "\n",
    "def is_after(t1, t2):\n",
    "    print (t1.hour, t1.minute, t1.second) > (t1.hour, t2.minute, t2.second)\n",
    "    \n",
    "    \n",
    "if __name__ in \"__main__\":\n",
    "    t1 = Time(10, 30, 43)\n",
    "    t2 = Time(5, 24, 13)\n",
    "   \n",
    "    is_after(t1, t2)\n",
    "    print t2\n",
    "    \n",
    "\n",
    "\n",
    "    "
   ]
  },
  {
   "cell_type": "markdown",
   "metadata": {},
   "source": [
    "## [Chapter 17](http://www.greenteapress.com/thinkpython/html/thinkpython018.html)\n",
    "\n",
    "In chapter 17 we finally have the tools to really put user-defined classes to work! In the exercises for this reading journal, we'll go back and add methods to your `Point` class from Chapter 15 to make it a lot easier to use."
   ]
  },
  {
   "cell_type": "markdown",
   "metadata": {},
   "source": [
    "object-oriented programming language: provides features that support object-oriented programming\n",
    "method: a function associated with a particulat class\n",
    "  methods are defined inside of classes\n",
    "  syntax for calling a method different than a function\n",
    "__init__: short for initialization, method that gets called when initializing objects\n",
    "__str__: returns a string representation of an object\n",
    "__add__: can define it in function using + operator\n",
    "operator overloading: for every operator in python, there is a corresponding mothod like __add__\n",
    "type-based dispach: changes what function is called based on the types inputted into the function (ie. an integer vs. an object)\n",
    "__radd__: right side add, if an object is on right side and integer on left side, method would get confused unless used this\n",
    "polymorphic: a function that can work on many types\n",
    "hasattr: built-in function to see if object has a particular attribute"
   ]
  },
  {
   "cell_type": "markdown",
   "metadata": {
    "is_question": true,
    "problem": "Exercise 17.2"
   },
   "source": [
    "### Exercise 2  \n",
    "\n",
    "Write an init method for the `Point` class that takes `x` and `y` as optional parameters and assigns them to the corresponding attributes. "
   ]
  },
  {
   "cell_type": "code",
   "execution_count": null,
   "metadata": {
    "collapsed": true,
    "solution": "Exercise 17.2"
   },
   "outputs": [],
   "source": [
    "class Point(object):\n",
    "    def __init__(self, x, y):\n",
    "        self.x, self.y = x, y\n",
    "        "
   ]
  },
  {
   "cell_type": "markdown",
   "metadata": {
    "is_question": true,
    "problem": "Exercise 17.3"
   },
   "source": [
    "### Exercise 3  \n",
    "\n",
    "Write a str method for the `Point` class. Create a `Point` object and print it."
   ]
  },
  {
   "cell_type": "code",
   "execution_count": 16,
   "metadata": {
    "collapsed": false,
    "solution": "Exercise 17.3"
   },
   "outputs": [
    {
     "name": "stdout",
     "output_type": "stream",
     "text": [
      "(3, 4)\n"
     ]
    }
   ],
   "source": [
    "class Point(object):\n",
    "    def __init__(self, x, y):\n",
    "        self.x, self.y = x, y\n",
    "        \n",
    "    def __str__(self):\n",
    "        return '({}, {})'.format(self.x, self.y)\n",
    "        \n",
    "\n",
    "if __name__ in '__main__':\n",
    "    point = Point(3,4)\n",
    "    print point"
   ]
  },
  {
   "cell_type": "markdown",
   "metadata": {
    "is_question": true,
    "problem": "Exercise 17.4"
   },
   "source": [
    "### Exercise 4  \n",
    "\n",
    "Write an add method for the `Point` class. Optional: implement operator overloading so that you can use the '+' operator."
   ]
  },
  {
   "cell_type": "code",
   "execution_count": 31,
   "metadata": {
    "collapsed": false,
    "solution": "Exercise 17.4"
   },
   "outputs": [
    {
     "name": "stdout",
     "output_type": "stream",
     "text": [
      "(3, 4)\n",
      "(4, 6)\n"
     ]
    }
   ],
   "source": [
    "class Point(object):\n",
    "    def __init__(self, x, y):\n",
    "        self.x, self.y = x, y\n",
    "        \n",
    "    def __str__(self):\n",
    "        return '({}, {})'.format(self.x, self.y)\n",
    "    \n",
    "    def __add__(self, other):\n",
    "        xs = self.x + other.x \n",
    "        ys = self.y + other.y\n",
    "        return (xs, ys)\n",
    "        \n",
    "\n",
    "if __name__ in '__main__':\n",
    "    point = Point(3,4)\n",
    "    print point\n",
    "    print Point(3,4) + Point(1,2)"
   ]
  },
  {
   "cell_type": "markdown",
   "metadata": {
    "is_question": true,
    "problem": "Exercise 17.7"
   },
   "source": [
    "### Exercise 7  \n",
    "\n",
    "This exercise is a cautionary tale about one of the most common, and difficult to find, errors in Python. Write a definition for a class named `Kangaroo` with the following methods:\n",
    "\n",
    " 1. An `__init__` method that initializes an attribute named `pouch_contents` to an empty list.\n",
    " 2. A method named `put_in_pouch` that takes an object of any type and adds it to `pouch_contents`.\n",
    " 3. A `__str__` method that returns a string representation of the `Kangaroo` object and the contents of the pouch.\n",
    "\n",
    "Test your code by creating two `Kangaroo` objects, assigning them to variables named `kanga` and `roo`, and then adding `roo` to the contents of `kanga`’s pouch.\n",
    "\n",
    "Download http://thinkpython.com/code/BadKangaroo.py. It contains a solution to the previous problem with one big, nasty bug. Find and fix the bug.\n",
    "\n",
    "If you get stuck, you can download http://thinkpython.com/code/GoodKangaroo.py, which explains the problem and demonstrates a solution. "
   ]
  },
  {
   "cell_type": "code",
   "execution_count": 32,
   "metadata": {
    "collapsed": false,
    "solution": "Exercise 17.7"
   },
   "outputs": [
    {
     "name": "stdout",
     "output_type": "stream",
     "text": [
      "<__main__.Kangaroo object at 0x7fc27d99f110> with pouch contents:\n",
      "    'piglet'\n",
      "<__main__.Kangaroo object at 0x7fc27d99ff90> with pouch contents:\n",
      "    <__main__.Kangaroo object at 0x7fc27d99f110>\n",
      "    'wallet'\n",
      "    'car keys'\n"
     ]
    }
   ],
   "source": [
    "class Kangaroo(object):\n",
    "    \"\"\"a Kangaroo is a marsupial\"\"\"\n",
    "    \n",
    "    def __init__(self, contents=None):\n",
    "        \"\"\"initialize the pouch contents; the default value is\n",
    "        an empty list\"\"\"\n",
    "        if contents == None:\n",
    "            contents = []\n",
    "            self.pouch_contents = contents\n",
    "        \n",
    "\n",
    "    def __str__(self):\n",
    "        \"\"\"return a string representaion of this Kangaroo and\n",
    "        the contents of the pouch, with one item per line\"\"\"\n",
    "        t = [ object.__str__(self) + ' with pouch contents:' ]\n",
    "        for obj in self.pouch_contents:\n",
    "            s = '    ' + object.__str__(obj)\n",
    "            t.append(s)\n",
    "        return '\\n'.join(t)\n",
    "\n",
    "    def put_in_pouch(self, item):\n",
    "        \"\"\"add a new item to the pouch contents\"\"\"\n",
    "        self.pouch_contents.append(item)\n",
    "\n",
    "kanga = Kangaroo()\n",
    "roo = Kangaroo()\n",
    "\n",
    "roo.put_in_pouch('piglet')\n",
    "kanga.put_in_pouch(roo)\n",
    "kanga.put_in_pouch('wallet')\n",
    "kanga.put_in_pouch('car keys')\n",
    "\n",
    "print roo\n",
    "print kanga\n",
    "\n",
    "\n"
   ]
  },
  {
   "cell_type": "markdown",
   "metadata": {
    "is_question": true,
    "problem": "Time spent"
   },
   "source": [
    "## Quick poll\n",
    "About how long did you spend working on this Reading Journal?"
   ]
  },
  {
   "cell_type": "markdown",
   "metadata": {
    "poll_response": true,
    "solution": "Time spent"
   },
   "source": [
    "About 2.5/3 hours "
   ]
  },
  {
   "cell_type": "markdown",
   "metadata": {
    "is_question": true,
    "problem": "Feedback"
   },
   "source": [
    "## Reading Journal feedback\n",
    "\n",
    "Have any comments on this Reading Journal? Feel free to leave them below and we'll read them when you submit your journal entry. This could include suggestions to improve the exercises, topics you'd like to see covered in class next time, or other feedback.\n",
    "\n",
    "If you have Python questions or run into problems while completing the reading, you should post them to Piazza instead so you can get a quick response before your journal is submitted."
   ]
  },
  {
   "cell_type": "markdown",
   "metadata": {
    "feedback_response": true,
    "solution": "Feedback"
   },
   "source": [
    "On exercise 4, I was wondering how you might take in a multitude of points and add them together. Right now, __add__ can only accomodate 2 points, which could be increased by adding more arguments to the __add__ function itself, but I was wondering if there were a way that could take in many points and sum them using this setup. "
   ]
  }
 ],
 "metadata": {
  "celltoolbar": "Edit Metadata",
  "kernelspec": {
   "display_name": "Python 2",
   "language": "python",
   "name": "python2"
  },
  "language_info": {
   "codemirror_mode": {
    "name": "ipython",
    "version": 2
   },
   "file_extension": ".py",
   "mimetype": "text/x-python",
   "name": "python",
   "nbconvert_exporter": "python",
   "pygments_lexer": "ipython2",
   "version": "2.7.6"
  }
 },
 "nbformat": 4,
 "nbformat_minor": 0
}
