{
 "cells": [
  {
   "cell_type": "markdown",
   "metadata": {},
   "source": [
    "# Day 1 Reading Journal\n",
    "\n",
    "Hi everyone.  These are the exercises for the first set of readings from ThinkPython.  While this journal consists of several required exercises, it is meant to encourage active reading more generally.  You should use this journal to take detailed notes, catalog questions, and explore the content from ThinkPython deeply.\n",
    "\n",
    "For more information on using the Jupyter notebook, check out the documentation [here](http://nbviewer.jupyter.org/github/jupyter/notebook/blob/master/docs/source/examples/Notebook/Examples%20and%20Tutorials%20Index.ipynb).  Additionally, in order to write text in this document, you will be making use of markdown cells. A handy cheatsheet for markdown is available [here](https://github.com/adam-p/markdown-here/wiki/Markdown-Cheatsheet)."
   ]
  },
  {
   "cell_type": "raw",
   "metadata": {},
   "source": []
  },
  {
   "cell_type": "code",
   "execution_count": 3,
   "metadata": {
    "collapsed": false
   },
   "outputs": [
    {
     "name": "stdout",
     "output_type": "stream",
     "text": [
      "Hello, World!\n"
     ]
    }
   ],
   "source": [
    "print 'Hello, World!'"
   ]
  },
  {
   "cell_type": "markdown",
   "metadata": {},
   "source": [
    "## Chapter 1\n",
    "\n",
    "Note: the exercise numbers below match up with the reading for ease of cross referencing."
   ]
  },
  {
   "cell_type": "raw",
   "metadata": {},
   "source": [
    "High-Level Languag\n",
    "    Easier for programmers to use\n",
    "    Slower (for computer must process)\n",
    "    Portable\n",
    "\n",
    "Low-Level Language  \n",
    "    Faster\n",
    "    Easier to make mistakes\n",
    "    \n",
    "Interpreter: processes a little at a time alternately reading lines and performing computations\n",
    "Compiler: reads program/ translates it before running\n",
    "    source code: the high-level program\n",
    "    translated program called: object code/executable\n",
    "Ways to run code: interactive mode (can run when make it) and scripts (saving in a file)\n",
    "Syntax Errors: about structure of program/rules about\n",
    "Runtime Errors: error does not apper until it's running\n",
    "Semantic Errors: it will do  something you were not expecting"
   ]
  },
  {
   "cell_type": "markdown",
   "metadata": {},
   "source": [
    "### Exercise 3\n",
    "\n",
    "Type `help()` to start the online help utility. Or you can type help('print') to get information about the print statement.  You should type `q` and then hit `enter` in the text box to exit the help utility. \n",
    "\n",
    "Note: this exercise is pretty simple (and there's not much to put in the box)!  We just want to make sure that you have tried out this super-handy feature of Python!"
   ]
  },
  {
   "cell_type": "code",
   "execution_count": 1,
   "metadata": {
    "collapsed": false
   },
   "outputs": [
    {
     "name": "stdout",
     "output_type": "stream",
     "text": [
      "\n",
      "Welcome to Python 2.7!  This is the online help utility.\n",
      "\n",
      "If this is your first time using Python, you should definitely check out\n",
      "the tutorial on the Internet at http://docs.python.org/2.7/tutorial/.\n",
      "\n",
      "Enter the name of any module, keyword, or topic to get help on writing\n",
      "Python programs and using Python modules.  To quit this help utility and\n",
      "return to the interpreter, just type \"quit\".\n",
      "\n",
      "To get a list of available modules, keywords, or topics, type \"modules\",\n",
      "\"keywords\", or \"topics\".  Each module also comes with a one-line summary\n",
      "of what it does; to list the modules whose summaries contain a given word\n",
      "such as \"spam\", type \"modules spam\".\n",
      "\n",
      "help> q\n",
      "\n",
      "You are now leaving help and returning to the Python interpreter.\n",
      "If you want to ask for help on a particular object directly from the\n",
      "interpreter, you can type \"help(object)\".  Executing \"help('string')\"\n",
      "has the same effect as typing a particular string at the help> prompt.\n"
     ]
    }
   ],
   "source": [
    "help()"
   ]
  },
  {
   "cell_type": "markdown",
   "metadata": {},
   "source": [
    "### Exercise 4  \n",
    "\n",
    "Start the Python interpreter and use it as a calculator. Python’s syntax for math operations is almost the same as standard mathematical notation. For example, the symbols +, - and / denote addition, subtraction and division, as you would expect. The symbol for multiplication is *.\n",
    "\n",
    "If you run a 10 kilometer race in 43 minutes 30 seconds, what is your average time per mile? What is your average speed in miles per hour? (Hint: there are 1.61 kilometers in a mile). "
   ]
  },
  {
   "cell_type": "code",
   "execution_count": 7,
   "metadata": {
    "collapsed": false
   },
   "outputs": [
    {
     "data": {
      "text/plain": [
       "6.211180124223602"
      ]
     },
     "execution_count": 7,
     "metadata": {},
     "output_type": "execute_result"
    }
   ],
   "source": [
    "10/1.61 \n"
   ]
  },
  {
   "cell_type": "code",
   "execution_count": 12,
   "metadata": {
    "collapsed": false
   },
   "outputs": [
    {
     "data": {
      "text/plain": [
       "7.003500000000001"
      ]
     },
     "execution_count": 12,
     "metadata": {},
     "output_type": "execute_result"
    }
   ],
   "source": [
    "x = 10/1.61\n",
    "43.5/x"
   ]
  },
  {
   "cell_type": "code",
   "execution_count": 14,
   "metadata": {
    "collapsed": false
   },
   "outputs": [
    {
     "data": {
      "text/plain": [
       "8.567144998929106"
      ]
     },
     "execution_count": 14,
     "metadata": {},
     "output_type": "execute_result"
    }
   ],
   "source": [
    "x = 10/1.61\n",
    "x/(43.5/60)"
   ]
  },
  {
   "cell_type": "markdown",
   "metadata": {},
   "source": [
    "## Chapter 2"
   ]
  },
  {
   "cell_type": "markdown",
   "metadata": {},
   "source": [
    "values\n",
    "    string (str): value in quotation marks\n",
    "    integer (int)\n",
    "    floating point (float): numbers with a decimal point\n",
    "variable names must begin with letter\n",
    "keywords:\n",
    "and       del       from      not       while    \n",
    "as        elif      global    or        with     \n",
    "assert    else      if        pass      yield    \n",
    "break     except    import    print              \n",
    "class     exec      in        raise              \n",
    "continue  finally   is        return             \n",
    "def       for       lambda    try\n",
    "python performs floor division (be sure using non-integers if want non-integer answer)\n",
    "concatenation: joining strings together"
   ]
  },
  {
   "cell_type": "code",
   "execution_count": 22,
   "metadata": {
    "collapsed": false
   },
   "outputs": [
    {
     "data": {
      "text/plain": [
       "str"
      ]
     },
     "execution_count": 22,
     "metadata": {},
     "output_type": "execute_result"
    }
   ],
   "source": [
    "message = 'Hello!'\n",
    "\n",
    "type(message)\n"
   ]
  },
  {
   "cell_type": "code",
   "execution_count": 23,
   "metadata": {
    "collapsed": false
   },
   "outputs": [
    {
     "data": {
      "text/plain": [
       "6"
      ]
     },
     "execution_count": 23,
     "metadata": {},
     "output_type": "execute_result"
    }
   ],
   "source": [
    "5\n",
    "x = 5\n",
    "x+1"
   ]
  },
  {
   "cell_type": "code",
   "execution_count": 24,
   "metadata": {
    "collapsed": false
   },
   "outputs": [
    {
     "name": "stdout",
     "output_type": "stream",
     "text": [
      "5\n",
      "6\n"
     ]
    }
   ],
   "source": [
    "print 5\n",
    "x = 5\n",
    "print 5+1"
   ]
  },
  {
   "cell_type": "markdown",
   "metadata": {},
   "source": [
    "### Exercise 2  \n",
    "\n",
    "Assume that we execute the following assignment statements:\n",
    "\n",
    "width = 17\n",
    "height = 12.0\n",
    "delimiter = '.'\n",
    "\n",
    "For each of the following expressions, write the value of the expression and the type (of the value of the expression).\n",
    "\n",
    "1. `width/2`\n",
    "2. `width/2.0`\n",
    "3. `height/3`\n",
    "4. `1 + 2 * 5`\n",
    "5. `delimiter * 5`\n",
    "\n",
    "Please use the following markdown cell to provide your answer."
   ]
  },
  {
   "cell_type": "markdown",
   "metadata": {},
   "source": [
    "1. width/2 = 17/2 = 8 (integer)\n",
    "2. width/2.0 = 17/2.0 = 8.5 (floating point)\n",
    "3. height/3 = 12.0/3 = 4.0(floating point)\n",
    "4. 1+2*5 = 11 (integer)\n",
    "5. delimiter * 5 = ..... (string)"
   ]
  },
  {
   "cell_type": "markdown",
   "metadata": {},
   "source": [
    "### Exercise 3  \n",
    "\n",
    "Practice using the Python interpreter as a calculator.  For each of these provide Python code that computes each answer.\n",
    "\n",
    "    \n"
   ]
  },
  {
   "cell_type": "markdown",
   "metadata": {},
   "source": [
    "The volume of a sphere with radius r is 4/3 $\\pi r^3$. What is the volume of a sphere with radius 5? Hint: 392.7 is wrong!"
   ]
  },
  {
   "cell_type": "code",
   "execution_count": 31,
   "metadata": {
    "collapsed": false
   },
   "outputs": [
    {
     "name": "stdout",
     "output_type": "stream",
     "text": [
      "523.598333333\n"
     ]
    }
   ],
   "source": [
    "r = 5\n",
    "pi = 3.14159\n",
    "volume = (pi*r**3)*4/3\n",
    "print volume"
   ]
  },
  {
   "cell_type": "markdown",
   "metadata": {},
   "source": [
    "Suppose the cover price of a book is \\$24.95, but bookstores get a 40% discount. Shipping costs \\$3 for the first copy and 75 cents for each additional copy. What is the total wholesale cost for 60 copies?"
   ]
  },
  {
   "cell_type": "code",
   "execution_count": 34,
   "metadata": {
    "collapsed": false
   },
   "outputs": [
    {
     "name": "stdout",
     "output_type": "stream",
     "text": [
      "945.45\n"
     ]
    }
   ],
   "source": [
    "price = 24.95 #price of book in dollars\n",
    "discount = 1-0.4 #discount for the bookstores\n",
    "books= 60 #number of books\n",
    "shipping = 3+0.75*(books-1)\n",
    "cost = books*price*discount +shipping\n",
    "print cost"
   ]
  },
  {
   "cell_type": "markdown",
   "metadata": {},
   "source": [
    "'float' object is not callable=> missing an operand"
   ]
  },
  {
   "cell_type": "markdown",
   "metadata": {},
   "source": [
    "If I leave my house at 6:52 am and run 1 mile at an easy pace (8:15 per mile), then 3 miles at tempo (7:12 per mile) and 1 mile at easy pace again, what time do I get home for breakfast? "
   ]
  },
  {
   "cell_type": "code",
   "execution_count": 115,
   "metadata": {
    "collapsed": false
   },
   "outputs": [
    {
     "name": "stdout",
     "output_type": "stream",
     "text": [
      "I went to breakfast at 7:30.\n"
     ]
    }
   ],
   "source": [
    "start_time_hr = 6 + 52 / 60.0 #time, converted into hours\n",
    "easy_pace_hr = (8 + 15 / 60.0 ) / 60.0 #slow pace, converted into hours\n",
    "tempo_pace_hr = (7 + 12 / 60.0) / 60.0 #faster pace, converted into hours\n",
    "running_time_hr = 2 * easy_pace_hr + 3 * tempo_pace_hr #time spent running\n",
    "stop_hr = start_time_hr + running_time_hr\n",
    "stop_min = int((breakfast_hr-int(breakfast_hr))*60) #int chops off anything after the decimal, so you can find the number\n",
    "#of minutes by finding the difference between the two\n",
    "stop_sec= int((breakfast_min-int(breakfast_min))*60)\n",
    "\n",
    "print 'I went to breakfast at %d:%d.' %(stop_hr, stop_min) # %d gives the decimal number of each in the parentheses\n",
    "\n"
   ]
  },
  {
   "cell_type": "markdown",
   "metadata": {},
   "source": [
    "## Chapter 3"
   ]
  },
  {
   "cell_type": "markdown",
   "metadata": {},
   "source": [
    "module: file containing collection of related functions\n",
    "dot notation: module_name.function is how to call the function ie. math.pi\n",
    "function definition: def =keyword that shows this is a function definition\n",
    "    header: first line of function definition\n",
    "    body: rest of the function\n",
    "    ellipses in interactive mode show function not complete, to end function have to enter an empty line\n",
    "parameters/variables are local: they only exist inside the function"
   ]
  },
  {
   "cell_type": "code",
   "execution_count": 35,
   "metadata": {
    "collapsed": false
   },
   "outputs": [
    {
     "name": "stdout",
     "output_type": "stream",
     "text": [
      "3.14159265359\n"
     ]
    }
   ],
   "source": [
    "from math import pi #you can import specific functions from a module\n",
    "print pi"
   ]
  },
  {
   "cell_type": "code",
   "execution_count": 37,
   "metadata": {
    "collapsed": false
   },
   "outputs": [
    {
     "data": {
      "text/plain": [
       "-1.0"
      ]
     },
     "execution_count": 37,
     "metadata": {},
     "output_type": "execute_result"
    }
   ],
   "source": [
    "from math import * #imports everything from the module\n",
    "cos(pi)"
   ]
  },
  {
   "cell_type": "markdown",
   "metadata": {},
   "source": [
    "### Exercise 3\n",
    "\n",
    "Python provides a built-in function called len that returns the length of a string, so the value of len('allen') is 5.\n",
    "Write a function named right_justify that takes a string named s as a parameter and prints the string with enough leading spaces so that the last letter of the string is in column 70 of the display.\n",
    "\n",
    "```\n",
    ">>> right_justify('allen')\n",
    "                                                                 allen```"
   ]
  },
  {
   "cell_type": "code",
   "execution_count": 97,
   "metadata": {
    "collapsed": false
   },
   "outputs": [
    {
     "name": "stdout",
     "output_type": "stream",
     "text": [
      "                                                                 allen\n"
     ]
    }
   ],
   "source": [
    "def right_justify(s):\n",
    "    print(' '*(70-len(s))+s)\n",
    "right_justify('allen')\n"
   ]
  },
  {
   "cell_type": "markdown",
   "metadata": {},
   "source": [
    "### Exercise 5\n",
    "\n",
    "This exercise can be done using only the statements and other features we have learned so far.\n",
    "\n",
    "(a) Write a function that draws a grid like the following:\n",
    "```\n",
    "+ - - - - + - - - - +\n",
    "|         |         |\n",
    "|         |         |\n",
    "|         |         |\n",
    "|         |         |\n",
    "+ - - - - + - - - - +\n",
    "|         |         |\n",
    "|         |         |\n",
    "|         |         |\n",
    "|         |         |\n",
    "+ - - - - + - - - - +\n",
    "```\n",
    "**Hint:** to print more than one value on a line, you can print a comma-separated sequence:\n",
    "print '+', '-'\n",
    "If the sequence ends with a comma, Python leaves the line unfinished, so the value printed next appears on the same line.\n",
    "print '+', \n",
    "print '-'\n",
    "The output of these statements is '+ -'.\n",
    "A print statement all by itself ends the current line and goes to the next line."
   ]
  },
  {
   "cell_type": "code",
   "execution_count": 128,
   "metadata": {
    "collapsed": false
   },
   "outputs": [
    {
     "name": "stdout",
     "output_type": "stream",
     "text": [
      "+ - - - - + - - - - +\n",
      "|         |         |\n",
      "|         |         |\n",
      "|         |         |\n",
      "|         |         |\n",
      "+ - - - - + - - - - +\n",
      "|         |         |\n",
      "|         |         |\n",
      "|         |         |\n",
      "|         |         |\n",
      "+ - - - - + - - - - +\n"
     ]
    }
   ],
   "source": [
    "def draw_whole():\n",
    "    draw_two_box()\n",
    "    draw_two_box()\n",
    "    draw_horz_line()\n",
    "    \n",
    "def draw_two_box():\n",
    "    draw_horz_line()\n",
    "    draw_vert()\n",
    "    draw_vert()\n",
    "    draw_vert()\n",
    "    draw_vert()\n",
    "\n",
    "\n",
    "def draw_horz_line():\n",
    "    print ('+' + ' -'*4 + ' ')*2 + '+'\n",
    "    \n",
    "def draw_vert():\n",
    "    print ('|' + ' '*9)*2 +'|'\n",
    "    \n",
    "\n",
    "draw_whole()"
   ]
  },
  {
   "cell_type": "markdown",
   "metadata": {},
   "source": [
    "(b) Write a function that draws a similar grid with four rows and four columns."
   ]
  },
  {
   "cell_type": "code",
   "execution_count": 135,
   "metadata": {
    "collapsed": false
   },
   "outputs": [
    {
     "name": "stdout",
     "output_type": "stream",
     "text": [
      "+ - - - - + - - - - + - - - - + - - - - +\n",
      "|         |         |         |         |\n",
      "|         |         |         |         |\n",
      "|         |         |         |         |\n",
      "|         |         |         |         |\n",
      "+ - - - - + - - - - + - - - - + - - - - +\n",
      "|         |         |         |         |\n",
      "|         |         |         |         |\n",
      "|         |         |         |         |\n",
      "|         |         |         |         |\n",
      "+ - - - - + - - - - + - - - - + - - - - +\n",
      "|         |         |         |         |\n",
      "|         |         |         |         |\n",
      "|         |         |         |         |\n",
      "|         |         |         |         |\n",
      "+ - - - - + - - - - + - - - - + - - - - +\n",
      "|         |         |         |         |\n",
      "|         |         |         |         |\n",
      "|         |         |         |         |\n",
      "|         |         |         |         |\n",
      "+ - - - - + - - - - + - - - - + - - - - +\n"
     ]
    }
   ],
   "source": [
    "def draw_whole():\n",
    "    draw_four_box()\n",
    "    draw_four_box()\n",
    "    draw_four_box()\n",
    "    draw_four_box()\n",
    "    draw_horz_line()\n",
    "    \n",
    "def draw_four_box():\n",
    "    draw_horz_line()\n",
    "    draw_vert()\n",
    "    draw_vert()\n",
    "    draw_vert()\n",
    "    draw_vert()\n",
    "\n",
    "\n",
    "def draw_horz_line():\n",
    "    print ('+' + ' -'*4 + ' ')*4 + '+'\n",
    "    \n",
    "def draw_vert():\n",
    "    print ('|' + ' '*9)*4 +'|'\n",
    "    \n",
    "\n",
    "draw_whole()"
   ]
  },
  {
   "cell_type": "markdown",
   "metadata": {},
   "source": [
    "## Chapter 5.1 - 5.7"
   ]
  },
  {
   "cell_type": "markdown",
   "metadata": {},
   "source": [
    "modulus operator: gives remainder after division, represented by % ie 7%3 gives 1\n",
    "\n",
    "boolean expression: is either true or false (is a relational operator), represented by ==\n",
    "More relational operators:\n",
    "      x != y               # x is not equal to y\n",
    "      x > y                # x is greater than y\n",
    "      x < y                # x is less than y\n",
    "      x >= y               # x is greater than or equal to y\n",
    "      x <= y               # x is less than or equal to y\n",
    "Logical Operators:\n",
    "and, or, not\n",
    "Conditional Execussion:\n",
    "   if statement: header of the if statement followed by indented body\n",
    "Alternative Execution:\n",
    "   if...else\n",
    "Chained Conditional:\n",
    "   if...elif...else\n",
    "   Conditions are checked in order\n",
    "   There is no limit to number of elif statements, ends with else (but does not have to)\n",
    "   "
   ]
  },
  {
   "cell_type": "markdown",
   "metadata": {},
   "source": [
    "### Exercise 3  \n",
    "\n",
    "Fermat’s Last Theorem says that there are no positive integers a, b, and c such that $a^n + b^n = c^n$ for any values of n greater than 2.\n",
    "\n",
    "(a) Write a function named `check_fermat` that takes four parameters—a, b, c and n—and that checks to see if Fermat’s theorem holds. If n is greater than 2 and it turns out to be true that\n",
    "$a^n + b^n = c^n$ the program should print, \"Holy smokes, Fermat was wrong!\" Otherwise the program should print, \"No, that doesn’t work.\""
   ]
  },
  {
   "cell_type": "code",
   "execution_count": 92,
   "metadata": {
    "collapsed": false
   },
   "outputs": [
    {
     "name": "stdout",
     "output_type": "stream",
     "text": [
      "No, that doesn't work.\n"
     ]
    }
   ],
   "source": [
    "def check_fermat(a, b, c, n):\n",
    "    if a**n + b**n == c**n:\n",
    "        if n<=2:\n",
    "            print 'Yay! Found a case!'\n",
    "        else:\n",
    "            print'Holy smokes, Fermat was wrong!'\n",
    "    elif a**n + b**n != c**n:\n",
    "        print \"No, that doesn't work.\"\n",
    "check_fermat(3,4,6,2)"
   ]
  },
  {
   "cell_type": "markdown",
   "metadata": {},
   "source": [
    "(b) Write a function that prompts the user to input values for a, b, c and n, converts them to integers, and uses check_fermat to check whether they violate Fermat’s theorem."
   ]
  },
  {
   "cell_type": "code",
   "execution_count": 94,
   "metadata": {
    "collapsed": false
   },
   "outputs": [
    {
     "name": "stdout",
     "output_type": "stream",
     "text": [
      "Yay! Found a case!\n"
     ]
    }
   ],
   "source": [
    "a = 3\n",
    "b = 4\n",
    "c = 5\n",
    "n = 2\n",
    "\n",
    "def check_fermat(a, b, c, n):\n",
    "    if a**n + b**n == c**n:\n",
    "        if n<=2:\n",
    "            print 'Yay! Found a case!'\n",
    "        else:\n",
    "            print'Holy smokes, Fermat was wrong!'\n",
    "    elif a**n + b**n != c**n:\n",
    "        print \"No, that doesn't work.\"\n",
    "\n",
    "    \n",
    "check_fermat(int(a), int(b), int(c), int(n))"
   ]
  },
  {
   "cell_type": "markdown",
   "metadata": {},
   "source": [
    "### Exercise 4  \n",
    "\n",
    "If you are given three sticks, you may or may not be able to arrange them in a triangle. For example, if one of the sticks is 12 inches long and the other two are one inch long, it is clear that you will not be able to get the short sticks to meet in the middle. For any three lengths, there is a simple test to see if it is possible to form a triangle:\n",
    "> If any of the three lengths is greater than the sum of the other two, then you cannot form a triangle. Otherwise, you can. (If the sum of two lengths equals the third, they form what is called a “degenerate” triangle.)\n",
    "\n",
    "(a) Write a function named `is_triangle` that takes three integers as arguments, and that prints either \"Yes\" or \"No,\" depending on whether you can or cannot form a triangle from sticks with the given lengths."
   ]
  },
  {
   "cell_type": "code",
   "execution_count": 143,
   "metadata": {
    "collapsed": false
   },
   "outputs": [
    {
     "name": "stdout",
     "output_type": "stream",
     "text": [
      "a3\n",
      "3\n",
      "b4\n",
      "4\n",
      "c5\n",
      "5\n",
      "Yay! Equilateral Triangle!\n"
     ]
    }
   ],
   "source": [
    "def is_triangle(a, b, c):\n",
    "    if c>a and c>b:\n",
    "        if a + b > c:\n",
    "            print 'Yay! Triangle Formed!'\n",
    "        elif a + b == c:\n",
    "            print 'Degenerate Triangle'\n",
    "    if b>a and b>c:\n",
    "        if a + c > b:\n",
    "            print 'Yay! Triangle Formed!'\n",
    "        elif a + c == b:\n",
    "            print 'Degenerate Triangle'\n",
    "    if a>b and a>c:\n",
    "        if b + c > a:\n",
    "            print 'Yay! Triangle Formed!'\n",
    "        elif b + c == a:\n",
    "            print 'Degenerate Triangle'\n",
    "    elif a==b==c:\n",
    "        print 'Yay! Equilateral Triangle!'\n",
    "    else:\n",
    "        print 'No triangle'\n",
    "print raw_input('a') \n",
    "print raw_input('b')\n",
    "print raw_input('c')\n",
    "\n",
    "is_triangle(a, b, c)"
   ]
  },
  {
   "cell_type": "markdown",
   "metadata": {},
   "source": [
    "(b) Write a function that prompts the user to input three stick lengths, converts them to integers, and uses is_triangle to check whether sticks with the given lengths can form a triangle."
   ]
  },
  {
   "cell_type": "code",
   "execution_count": 137,
   "metadata": {
    "collapsed": false
   },
   "outputs": [
    {
     "name": "stdout",
     "output_type": "stream",
     "text": [
      "Yay! Triangle Formed!\n"
     ]
    }
   ],
   "source": [
    "#put in triangle side lengths\n",
    "\n",
    "x = 3.5\n",
    "y = 4\n",
    "z = 5\n",
    "\n",
    "def is_triangle(a, b, c): #checks to see if the sides can form a triangle\n",
    "    if c>a and c>b:\n",
    "        if a + b > c:\n",
    "            print 'Yay! Triangle Formed!'\n",
    "        elif a + b == c:\n",
    "            print 'Degenerate Triangle'\n",
    "    if b>a and b>c:\n",
    "        if a + c > b:\n",
    "            print 'Yay! Triangle Formed!'\n",
    "        elif a + c == b:\n",
    "            print 'Degenerate Triangle'\n",
    "    if a>b and a>c:\n",
    "        if b + c > a:\n",
    "            print 'Yay! Triangle Formed!'\n",
    "        elif b + c == a:\n",
    "            print 'Degenerate Triangle'\n",
    "    elif a==b==c:\n",
    "        print 'Yay! Triangle Formed!'\n",
    "    else:\n",
    "        print 'No triangle'\n",
    "\n",
    "def convert(x): #converts triangle side lengths into integers\n",
    "    int(x)\n",
    "\n",
    "is_triangle(convert(x), convert(y), convert(z))"
   ]
  },
  {
   "cell_type": "markdown",
   "metadata": {},
   "source": [
    "## Notes for the Instructors\n",
    "\n",
    "Please use the space below to write comments to help us plan the next class session.  For instance, if you want to see us go over an example of a particular type of problem, you can indicate that here.\n",
    "\n",
    "Please remember that the best way to get quick feedback from the instructors as well as your peers, is to use Piazza.  However, consider using this channel if it doesn't make sense to post your note to Piazza."
   ]
  },
  {
   "cell_type": "markdown",
   "metadata": {},
   "source": [
    "I don't really have comments on this assignment. I think most of my errors were related to syntax."
   ]
  }
 ],
 "metadata": {
  "kernelspec": {
   "display_name": "Python 2",
   "language": "python",
   "name": "python2"
  },
  "language_info": {
   "codemirror_mode": {
    "name": "ipython",
    "version": 2
   },
   "file_extension": ".py",
   "mimetype": "text/x-python",
   "name": "python",
   "nbconvert_exporter": "python",
   "pygments_lexer": "ipython2",
   "version": "2.7.6"
  }
 },
 "nbformat": 4,
 "nbformat_minor": 0
}
