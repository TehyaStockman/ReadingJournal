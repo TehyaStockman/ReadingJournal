{
 "cells": [
  {
   "cell_type": "markdown",
   "metadata": {},
   "source": [
    "# Day 3 Reading Journal\n",
    "\n",
    "This journal includes several required exercises, but it is meant to encourage active reading more generally.  You should use the journal to take detailed notes, catalog questions, and explore the content from Think Python deeply.\n",
    "\n",
    "Reading: Think Python Chapter 8, 10.1-10.6\n",
    "\n",
    "**Due: Monday, February 1 at 12 noon**\n",
    "\n"
   ]
  },
  {
   "cell_type": "markdown",
   "metadata": {},
   "source": [
    "## [Chapter 8](http://www.greenteapress.com/thinkpython/html/thinkpython009.html)\n",
    "\n",
    "Note: the exercise numbers below match up with the reading for ease of cross referencing."
   ]
  },
  {
   "cell_type": "markdown",
   "metadata": {},
   "source": [
    "8.1\n",
    "A string is a sequence of characters\n",
    "Can access each charactre 1 at a time with bracket operator\n",
    "  fruit = 'banana'\n",
    "  letter = fruit[1]\n",
    "  print letter ==> a (indices for python start at zero, so b would be the 0th character)\n",
    "  \n",
    "8.2 len\n",
    "len gives the length of a string\n",
    "negative indices count backwards from the end of the string\n",
    "  fruit = 'banana'\n",
    "  letter = fruit[-1] ==>last letter\n",
    "  \n",
    "8.3 Taversal with a for loop\n",
    "traversal: processing one character in a string at a time\n",
    "  also written for____ in ____ : \n",
    "\n",
    "8.4 String Slices\n",
    "a segment of a string is called a slice\n",
    "[n:m] returns the part of the string from the nth character to the mth character *includes the first character, but excludes the last character*\n",
    "  if omit the first character [:m] starts at the begining of the string, if omit 2nd character [n:] goes until end of string\n",
    "  if [n:m] n >= m, then gives you an empty string\n",
    "  \n",
    "8.5 Strings are immutable\n",
    "object: same thing as a value\n",
    "item: one of the values in a sequence\n",
    "strings are immutable: you canNOT change an existing string\n",
    "\n",
    "8.6 Searching\n",
    "search: traversing a sequence and returning when find what looking for\n",
    "\n",
    "8.7 Looping and Counting\n",
    "\n",
    "8.8 String Methods\n",
    "method similar to a function: takes in arguments returns a value, different syntax\n",
    "invocation   ___.___()\n",
    "\n",
    "8.9 'in' operator\n",
    "'in' operator: takes two strings, returns True if 1st substring appears in 2nd substring, False if it does not\n",
    "\n",
    "8.10 String Comparison\n",
    "uppercase comes before lowercase\n"
   ]
  },
  {
   "cell_type": "code",
   "execution_count": 23,
   "metadata": {
    "collapsed": false
   },
   "outputs": [
    {
     "name": "stdout",
     "output_type": "stream",
     "text": [
      "Jack\n",
      "Kack\n",
      "Lack\n",
      "Mack\n",
      "Nack\n",
      "Ouack\n",
      "Pack\n",
      "Quack\n"
     ]
    }
   ],
   "source": [
    "prefixes = 'JKLMNOPQ'\n",
    "suffix = \"ack\"\n",
    "\n",
    "for letter in prefixes:\n",
    "    if letter == 'O' or letter == 'Q':# adds a u if prefix is O or Q\n",
    "        print letter + 'u' + suffix\n",
    "    else:\n",
    "        print letter + suffix  #adds the prefix and suffix to create words\n",
    "    \n"
   ]
  },
  {
   "cell_type": "markdown",
   "metadata": {},
   "source": [
    "if statement must have == to work, also have to divide it into an or statement with two 'letter = ...' otherwise end up getting all of the cases adding a u or it not working"
   ]
  },
  {
   "cell_type": "code",
   "execution_count": null,
   "metadata": {
    "collapsed": true
   },
   "outputs": [],
   "source": [
    "#search\n",
    "def find(word, letter):\n",
    "    index = 0\n",
    "    while index < len(word):\n",
    "        if word[index] == letter:\n",
    "            return index\n",
    "        index = index + 1\n",
    "    return -1"
   ]
  },
  {
   "cell_type": "markdown",
   "metadata": {},
   "source": [
    "### Exercise 1  \n",
    "\n",
    "Write a function that takes a string as an argument and displays the letters backward, one per line."
   ]
  },
  {
   "cell_type": "code",
   "execution_count": 1,
   "metadata": {
    "collapsed": false
   },
   "outputs": [
    {
     "name": "stdout",
     "output_type": "stream",
     "text": [
      "My name is Chair\n",
      "r\n",
      "i\n",
      "a\n",
      "h\n",
      "C\n"
     ]
    }
   ],
   "source": [
    "index = -1                      #input starts at -1 because it is going backwards\n",
    "name = raw_input('My name is ') #raw_input returns the string that was inputted\n",
    "\n",
    "\n",
    "while index >= 0 - len(name):\n",
    "    letter = name[index]\n",
    "    print letter\n",
    "    index = index - 1\n",
    "        \n",
    "    "
   ]
  },
  {
   "cell_type": "markdown",
   "metadata": {},
   "source": [
    "**Challenge (optional):** Write a function that translates words into [Pig Latin](https://en.wikipedia.org/wiki/Pig_Latin). \n",
    "\n",
    "**Additional challenge**: Write a function that translates back into English."
   ]
  },
  {
   "cell_type": "code",
   "execution_count": 39,
   "metadata": {
    "collapsed": false
   },
   "outputs": [
    {
     "name": "stdout",
     "output_type": "stream",
     "text": [
      "English word: Hello\n",
      "Pig Latin Word: ellohay\n"
     ]
    }
   ],
   "source": [
    "word = raw_input('English word: ')\n",
    "def pig_latin(word):\n",
    "    \"\"\"\n",
    "    Return given 'word' translated into Pig Latin\n",
    "    \n",
    "    >>> pig_latin(\"software\")\n",
    "    Pig Latin Word: oftwaresay\n",
    "    \"\"\"\n",
    "    first_letter = word.lower() #makes first letter of word lowercase as it will be middle of word\n",
    "    print \"Pig Latin Word: \" + word[1:] + first_letter[0] + 'ay'\n",
    "    pass #TODO: Implement me\n",
    "\n",
    "\n",
    "pig_latin(word)\n",
    "# If you'd like to actually run the doctests here, you can uncomment the lines below.\n",
    "# We use this slightly more complex method to test only the pig_latin function, without running tests on any other functions that may be in this notebook.\n",
    "import doctest\n",
    "doctest.run_docstring_examples(pig_latin, globals())"
   ]
  },
  {
   "cell_type": "code",
   "execution_count": 3,
   "metadata": {
    "collapsed": false
   },
   "outputs": [
    {
     "name": "stdout",
     "output_type": "stream",
     "text": [
      "3\n"
     ]
    }
   ],
   "source": [
    "word = 'banana'\n",
    "count = 0\n",
    "for letter in word:\n",
    "    if letter == 'a':\n",
    "        count = count + 1\n",
    "print count"
   ]
  },
  {
   "cell_type": "markdown",
   "metadata": {},
   "source": [
    "### Exercise 5\n",
    "Encapsulate the character counting code in a fruitful function named `count` that accepts the string and the letter as arguments and returns the count."
   ]
  },
  {
   "cell_type": "code",
   "execution_count": 3,
   "metadata": {
    "collapsed": false
   },
   "outputs": [
    {
     "name": "stdout",
     "output_type": "stream",
     "text": [
      "input word: supercalifragilisticexpialidocious\n",
      "input letter to count: i\n",
      "7\n"
     ]
    }
   ],
   "source": [
    "word = raw_input('input word: ')             #inputting word into the function\n",
    "let = raw_input('input letter to count: ')   #inputting letter to count\n",
    "\n",
    "def count(letter, word):\n",
    "    counting = 0\n",
    "    for letter in word:\n",
    "        if letter == let:                   #let is defined as a string that is inputted above\n",
    "            counting = counting + 1         #takes previous number and adds 1\n",
    "    print counting\n",
    "\n",
    "count(let, word)"
   ]
  },
  {
   "cell_type": "markdown",
   "metadata": {},
   "source": [
    "### Exercise 8\n",
    "Skim the documentation of the Python [string methods](http://docs.python.org/2/library/stdtypes.html#string-methods). Experiment with some of them to make sure you understand how they work. strip, replace, and upper/lower are particularly useful."
   ]
  },
  {
   "cell_type": "code",
   "execution_count": 30,
   "metadata": {
    "collapsed": false
   },
   "outputs": [
    {
     "name": "stdout",
     "output_type": "stream",
     "text": [
      "supercalifragilisticexpialidocious\n",
      "Supercalifragilisticexpialidocious\n",
      "upercalifragilisticexpialidociou\n",
      "ruff\n",
      "ruf\n",
      "SUPERCALIFRAGILISTICEXPIALIDOCIOUS!!!\n"
     ]
    }
   ],
   "source": [
    "word = 'supercalifragilisticexpialidocious'\n",
    "print word\n",
    "print word.capitalize()\n",
    "print word.strip(\"s\") #strips off each side of the string the letters given, but stops once reaches other letters\n",
    "new = 'ruff'\n",
    "print word.replace(word, new) #replaces old string with a new string\n",
    "print word.replace(word, new[0:3]) #replaces old string with range of new string\n",
    "print word.upper() + '!!!' #makes all leters uppercase '.lower' would make lowercase\n"
   ]
  },
  {
   "cell_type": "markdown",
   "metadata": {},
   "source": [
    "### Exercise 11  \n",
    "\n",
    "The following functions are all intended to check whether a string contains any lowercase letters, but at least some of them are wrong. For each function, describe what the function actually does (assuming that the parameter is a string)."
   ]
  },
  {
   "cell_type": "code",
   "execution_count": 10,
   "metadata": {
    "collapsed": false
   },
   "outputs": [
    {
     "name": "stdout",
     "output_type": "stream",
     "text": [
      "**********************************************************************\n",
      "File \"__main__\", line 5, in NoName\n",
      "Failed example:\n",
      "    any_lowercase1('HeLlo')\n",
      "Expected:\n",
      "    True\n",
      "Got:\n",
      "    False\n"
     ]
    }
   ],
   "source": [
    "def any_lowercase1(s):\n",
    "    \"\"\"\n",
    "    >>> any_lowercase1('hello')\n",
    "    True\n",
    "    >>> any_lowercase1('HeLlo')\n",
    "    True\n",
    "    >>> any_lowercase1('HELLO')\n",
    "    False\n",
    "    \"\"\"\n",
    "    for c in s:\n",
    "        if c.islower():\n",
    "            return True\n",
    "        else:\n",
    "            return False\n",
    "        \n",
    "import doctest\n",
    "doctest.run_docstring_examples(any_lowercase1, globals())"
   ]
  },
  {
   "cell_type": "markdown",
   "metadata": {},
   "source": [
    "This function does not work on a word that starts with a capital letter. It stops after evaluating the first character to either true or false."
   ]
  },
  {
   "cell_type": "markdown",
   "metadata": {},
   "source": [
    " "
   ]
  },
  {
   "cell_type": "code",
   "execution_count": 25,
   "metadata": {
    "collapsed": false
   },
   "outputs": [
    {
     "name": "stdout",
     "output_type": "stream",
     "text": [
      "**********************************************************************\n",
      "File \"__main__\", line 3, in NoName\n",
      "Failed example:\n",
      "    any_lowercase2('hello')\n",
      "Expected:\n",
      "    True\n",
      "Got:\n",
      "    'True'\n",
      "**********************************************************************\n",
      "File \"__main__\", line 5, in NoName\n",
      "Failed example:\n",
      "    any_lowercase2('HeLlo')\n",
      "Expected:\n",
      "    True\n",
      "Got:\n",
      "    'True'\n",
      "**********************************************************************\n",
      "File \"__main__\", line 7, in NoName\n",
      "Failed example:\n",
      "    any_lowercase2('HELLO')\n",
      "Expected:\n",
      "    False\n",
      "Got:\n",
      "    'True'\n"
     ]
    }
   ],
   "source": [
    "def any_lowercase2(s):\n",
    "    \"\"\"\n",
    "    >>> any_lowercase2('hello')\n",
    "    True\n",
    "    >>> any_lowercase2('HeLlo')\n",
    "    True\n",
    "    >>> any_lowercase2('HELLO')\n",
    "    False\n",
    "    \"\"\"\n",
    "    for c in s:\n",
    "        if 'c'.islower():\n",
    "            return 'True'\n",
    "        else:\n",
    "            return 'False'\n",
    "        \n",
    "any_lowercase2(' ')\n",
    "import doctest\n",
    "doctest.run_docstring_examples(any_lowercase2, globals())"
   ]
  },
  {
   "cell_type": "markdown",
   "metadata": {},
   "source": [
    "As long as there is an input in the form of a string, the function will run and produce 'True' as the answer"
   ]
  },
  {
   "cell_type": "markdown",
   "metadata": {},
   "source": [
    " "
   ]
  },
  {
   "cell_type": "code",
   "execution_count": 11,
   "metadata": {
    "collapsed": false
   },
   "outputs": [
    {
     "name": "stdout",
     "output_type": "stream",
     "text": [
      "**********************************************************************\n",
      "File \"__main__\", line 5, in NoName\n",
      "Failed example:\n",
      "    any_lowercase3('HellO')\n",
      "Expected:\n",
      "    True\n",
      "Got:\n",
      "    False\n"
     ]
    }
   ],
   "source": [
    "def any_lowercase3(s):\n",
    "    \"\"\"\n",
    "    >>> any_lowercase3('hello')\n",
    "    True\n",
    "    >>> any_lowercase3('HellO')\n",
    "    True\n",
    "    >>> any_lowercase3('HELLO')\n",
    "    False\n",
    "    \"\"\"\n",
    "    for c in s:\n",
    "        flag = c.islower()\n",
    "    return flag\n",
    "\n",
    "any_lowercase3('hello')\n",
    "import doctest\n",
    "doctest.run_docstring_examples(any_lowercase3, globals())"
   ]
  },
  {
   "cell_type": "markdown",
   "metadata": {},
   "source": [
    "This breaks when the last character of the word evaluates to false, as it returns the last statement of either true or false."
   ]
  },
  {
   "cell_type": "code",
   "execution_count": 21,
   "metadata": {
    "collapsed": false
   },
   "outputs": [],
   "source": [
    "def any_lowercase4(s):\n",
    "    \"\"\"\n",
    "    >>> any_lowercase4('hello')\n",
    "    True\n",
    "    >>> any_lowercase4('HellO')\n",
    "    True\n",
    "    >>> any_lowercase4('HELLO')\n",
    "    False\n",
    "    \"\"\"\n",
    "    flag = False\n",
    "    for c in s:\n",
    "        flag = flag or c.islower()\n",
    "    return flag\n",
    "\n",
    "any_lowercase4('HELlO')\n",
    "import doctest\n",
    "doctest.run_docstring_examples(any_lowercase4, globals())"
   ]
  },
  {
   "cell_type": "markdown",
   "metadata": {},
   "source": [
    "This works!"
   ]
  },
  {
   "cell_type": "code",
   "execution_count": 24,
   "metadata": {
    "collapsed": false
   },
   "outputs": [
    {
     "name": "stdout",
     "output_type": "stream",
     "text": [
      "**********************************************************************\n",
      "File \"__main__\", line 5, in NoName\n",
      "Failed example:\n",
      "    any_lowercase5('Hello')\n",
      "Expected:\n",
      "    True\n",
      "Got:\n",
      "    False\n"
     ]
    }
   ],
   "source": [
    "def any_lowercase5(s):\n",
    "    \"\"\"\n",
    "    >>> any_lowercase5('hello')\n",
    "    True\n",
    "    >>> any_lowercase5('Hello')\n",
    "    True\n",
    "    >>> any_lowercase5('HELLO')\n",
    "    False\n",
    "    \"\"\"\n",
    "    for c in s:\n",
    "        if not c.islower():\n",
    "            return False\n",
    "    return True\n",
    "any_lowercase5('HeLlO')\n",
    "import doctest\n",
    "doctest.run_docstring_examples(any_lowercase5, globals())"
   ]
  },
  {
   "cell_type": "markdown",
   "metadata": {},
   "source": [
    " The function cuts off when it reaches a false and does not evaluate further."
   ]
  },
  {
   "cell_type": "markdown",
   "metadata": {},
   "source": [
    "## [Chapter 10.1 - 10.6](http://www.greenteapress.com/thinkpython/html/thinkpython011.html)\n",
    "\n",
    "You may want to review [state diagrams in Chapter 2](http://www.greenteapress.com/thinkpython/html/thinkpython003.html#toc13).\n",
    "\n"
   ]
  },
  {
   "cell_type": "markdown",
   "metadata": {},
   "source": [
    "10.1 lists\n",
    "list: sequence of values, can be any type (not just characters)\n",
    "values in a list are called elements or items\n",
    "create a list by: [...,...] enclosing them in brackets\n",
    "elements of a list do not have to be the same type\n",
    "nested: list within another list\n",
    "empty list: list with no elements\n",
    "\n",
    "10.2 lists are mutable\n",
    "syntax for accessing element in list same as accessing character is string: with brackets []\n",
    "brackets can go on left side => identifies element of list that will be assigned\n",
    "mapping: each index maps to an element\n",
    "List indices work the same way as string indices:\n",
    "    Any integer expression can be used as an index.\n",
    "    If you try to read or write an element that does not exist, you get an IndexError.\n",
    "    If an index has a negative value, it counts backward from the end of the list.\n",
    "the 'in' operator works on lists\n",
    "\n",
    "10.3 Traversing a list\n",
    "range returns a list of indices from 0 to n-1"
   ]
  },
  {
   "cell_type": "code",
   "execution_count": 14,
   "metadata": {
    "collapsed": false
   },
   "outputs": [
    {
     "name": "stdout",
     "output_type": "stream",
     "text": [
      "[2, 6, 10, 14]\n"
     ]
    }
   ],
   "source": [
    "numbers = [1, 3, 5, 7]\n",
    "for i in range(len(numbers)):     #range of len(numbers) returns 0 to len(numbers)-1\n",
    "    numbers[i] = numbers[i] * 2\n",
    "print numbers                     #this prints the updated list of numbers"
   ]
  },
  {
   "cell_type": "markdown",
   "metadata": {},
   "source": [
    "a for loop over an empty list never executes the body\n",
    "nested list counts as a single element in the outer list\n",
    "\n",
    "10.4 List operations\n",
    "'+' operator concatenates lists\n",
    "'*' *repeates list a given number of times\n",
    "slice operator works on lists same as strings: can also be used to update lists\n",
    "extend: takes list element and appends all elements (changes one list but not the other)\n",
    "list methods are all void"
   ]
  },
  {
   "cell_type": "markdown",
   "metadata": {},
   "source": [
    "**Quick check:** What type of items can be placed in a list?"
   ]
  },
  {
   "cell_type": "markdown",
   "metadata": {},
   "source": [
    "Any type of item can be put in a list "
   ]
  },
  {
   "cell_type": "markdown",
   "metadata": {},
   "source": [
    "**Quick check:** Give at least one similarity and one difference between lists and strings."
   ]
  },
  {
   "cell_type": "markdown",
   "metadata": {},
   "source": [
    "Similarity: the indices work the same way\n",
    "Difference: you can update lists using the indices, something you cannot do with strings"
   ]
  },
  {
   "cell_type": "markdown",
   "metadata": {},
   "source": [
    "### Exercise\n",
    "\n",
    "Write a function `average` that takes a list of numbers and returns their arithmetic mean."
   ]
  },
  {
   "cell_type": "code",
   "execution_count": 7,
   "metadata": {
    "collapsed": false
   },
   "outputs": [
    {
     "name": "stdout",
     "output_type": "stream",
     "text": [
      "2.5\n"
     ]
    }
   ],
   "source": [
    "list_numbers = [1, 2, 3, 4]\n",
    "def cummulative(list_numbers):\n",
    "    add = 0.0                   #starts at 0 for the zeroeth entry, 0.0 to be sure that everything is a float\n",
    "    new_list = []               #empty list to be added to\n",
    "    for i in list_numbers:\n",
    "        add += i                #add 1 to the previous value of i\n",
    "        new_list.append(add)    #put lists together, append keeps adding onto the previous list\n",
    "    return new_list\n",
    "\n",
    "def average(new_list):          \n",
    "    mean = new_list[-1]/(len(new_list))  #input from previous function's output, averages them by dividing by length of list\n",
    "    print mean\n",
    "    \n",
    "average(cummulative(list_numbers))\n",
    "    "
   ]
  },
  {
   "cell_type": "markdown",
   "metadata": {},
   "source": [
    "### Exercise\n",
    "You own a restaurant, and you need to keep up with the latest food fads or risk losing your fickle customers. You decide to write a Python function that adds the hot new ingredient _du jour_ to each of your regular menu items and returns the trendy new menu."
   ]
  },
  {
   "cell_type": "code",
   "execution_count": 36,
   "metadata": {
    "collapsed": false
   },
   "outputs": [
    {
     "data": {
      "text/plain": [
       "['burger with kale', 'salad with kale', 'ice cream with kale']"
      ]
     },
     "execution_count": 36,
     "metadata": {},
     "output_type": "execute_result"
    }
   ],
   "source": [
    "menu = [\"burger\", \"salad\", \"ice cream\"]\n",
    "ingredient = \"kale\"\n",
    "\n",
    "def add_ingredient(menu, ingredient):\n",
    "    \"\"\"\n",
    "    Given a list of string 'menu' items and a trendy 'ingredient' string of the day,\n",
    "    return a new menu list of strings with the ingredient added to each.\n",
    "    \n",
    "    >>> add_ingredient([\"burger\", \"salad\", \"ice cream\"], \"kale\")\n",
    "    ['burger with kale', 'salad with kale', 'ice cream with kale']\n",
    "    \n",
    "    \"\"\"\n",
    "    for i in range(len(menu)):\n",
    "        menu[i] = menu[i] + ' with ' + ingredient\n",
    "    return menu\n",
    "    pass    # TODO: Implement me\n",
    "\n",
    "add_ingredient(menu, ingredient)\n",
    "# Running doctests in jupyter notebook:\n",
    "# If you'd like to actually run the doctests here, you can uncomment the lines below.\n",
    "# We use this slightly more complex method to test only the add_ingredient function,\n",
    "# without running tests on any other functions that may be in this notebook.\n",
    "\n",
    "#import doctest\n",
    "#doctest.run_docstring_examples(add_ingredient, globals())"
   ]
  },
  {
   "cell_type": "markdown",
   "metadata": {},
   "source": [
    "## Reading Journal feedback\n",
    "\n",
    "Have any comments on this Reading Journal? Feel free to leave them below and we'll read them when you submit your journal entry. This could include suggestions to improve the exercises, topics you'd like to see covered in class next time, or other feedback.\n",
    "\n",
    "If you have Python questions or run into problems while completing the reading, you should post them to Piazza instead so you can get a quick response before your journal is submitted."
   ]
  },
  {
   "cell_type": "markdown",
   "metadata": {},
   "source": [
    " "
   ]
  }
 ],
 "metadata": {
  "kernelspec": {
   "display_name": "Python 2",
   "language": "python",
   "name": "python2"
  },
  "language_info": {
   "codemirror_mode": {
    "name": "ipython",
    "version": 2
   },
   "file_extension": ".py",
   "mimetype": "text/x-python",
   "name": "python",
   "nbconvert_exporter": "python",
   "pygments_lexer": "ipython2",
   "version": "2.7.6"
  }
 },
 "nbformat": 4,
 "nbformat_minor": 0
}
