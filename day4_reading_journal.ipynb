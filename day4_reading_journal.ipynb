{
 "cells": [
  {
   "cell_type": "markdown",
   "metadata": {},
   "source": [
    "# Day 4 Reading Journal\n",
    "\n",
    "This journal includes several required exercises, but it is meant to encourage active reading more generally.  You should use the journal to take detailed notes, catalog questions, and explore the content from Think Python deeply.\n",
    "\n",
    "Reading: Think Python Chapter 10\n",
    "\n",
    "**Due: Thursday, February 4 at 12 noon**\n",
    "\n"
   ]
  },
  {
   "cell_type": "markdown",
   "metadata": {},
   "source": [
    "## [Chapter 10](http://www.greenteapress.com/thinkpython/html/thinkpython011.html)\n",
    "\n",
    "You may want to review [state diagrams in Chapter 2](http://www.greenteapress.com/thinkpython/html/thinkpython003.html#toc13). [Python Tutor](http://pythontutor.com/) is also helpful for visualizing the state of your program.\n",
    "\n"
   ]
  },
  {
   "cell_type": "code",
   "execution_count": null,
   "metadata": {
    "collapsed": true
   },
   "outputs": [],
   "source": []
  },
  {
   "cell_type": "raw",
   "metadata": {},
   "source": [
    "\n",
    "10.6 List Methods\n",
    "append: adds a new element to a list\n",
    "extend: combines two lists together\n",
    "sort: sorts from low to high\n",
    "\n",
    "10.7 Map, filter, and reduce\n",
    "+= : augmented assignment statement, example: total+= x is the same as total= total + x\n",
    "sum: built in function\n",
    "\n",
    "10.8 Deleting Elements\n",
    "pop: deletes the specified item from a list, saves the deleted value\n",
    "del: also deletes the specified item, but does not save it\n",
    "  can also delete on a range\n",
    "remove: removes a specified item\n",
    "\n",
    "10.9 Lists and Strings\n",
    "list: converts strings to list of characters\n",
    "split: for string of words, separates words into list\n",
    "join: inverse of split. \n",
    "\n",
    "10.10 objects and values\n",
    "is: can compare to say if something 'is' something else \n",
    "  this works with strings, but not with lists. When create a list, creating a different object, versus a string will just be the same object as when the string is first mentioned\n",
    "equivalent vs identical: if refering to the same object,they're identical. if they have the same values but are not the same object, they are equivalent\n",
    "\n",
    "10.11 aliasing\n",
    "reference: association with "
   ]
  },
  {
   "cell_type": "markdown",
   "metadata": {},
   "source": [
    "### Exercise 4  \n",
    "Write a function called `middle` that takes a list and returns a new list that contains all but the first and last elements. So `middle([1,2,3,4])` should return `[2,3]`."
   ]
  },
  {
   "cell_type": "code",
   "execution_count": 29,
   "metadata": {
    "collapsed": false
   },
   "outputs": [
    {
     "data": {
      "text/plain": [
       "[2, 3]"
      ]
     },
     "execution_count": 29,
     "metadata": {},
     "output_type": "execute_result"
    }
   ],
   "source": [
    "def middle(list_numbers):\n",
    "    new_list = list_numbers[1:len(list_numbers)-1]\n",
    "    return new_list\n",
    "\n",
    "\n",
    "\n",
    "middle([1,2,3,4])"
   ]
  },
  {
   "cell_type": "markdown",
   "metadata": {},
   "source": [
    "### Exercise 5  \n",
    "Write a function called `chop` that takes a list, modifies it by removing the first and last elements, and returns `None`.\n",
    "\n",
    "What is the difference between `middle` and `chop`? Sketch out the program state or take a look at each in Python Tutor."
   ]
  },
  {
   "cell_type": "code",
   "execution_count": 27,
   "metadata": {
    "collapsed": false
   },
   "outputs": [],
   "source": [
    "def chop(list_numbers):\n",
    "    del list_numbers[0]\n",
    "    del list_numbers[-1]\n",
    "    print list_numbers\n",
    "    \n",
    "chop([1,2,3,4])\n",
    "    "
   ]
  },
  {
   "cell_type": "markdown",
   "metadata": {},
   "source": [
    "Middle creates a new list while keeping the old list intact, while chop modifies the existing list."
   ]
  },
  {
   "cell_type": "markdown",
   "metadata": {},
   "source": [
    "### Exercise 7  \n",
    "Two words are anagrams if you can rearrange the letters from one to spell the other. Write a function called `is_anagram` that takes two strings and returns `True` if they are anagrams."
   ]
  },
  {
   "cell_type": "code",
   "execution_count": 70,
   "metadata": {
    "collapsed": false
   },
   "outputs": [
    {
     "name": "stdout",
     "output_type": "stream",
     "text": [
      "eilnst\n",
      "eilnst\n"
     ]
    },
    {
     "data": {
      "text/plain": [
       "True"
      ]
     },
     "execution_count": 70,
     "metadata": {},
     "output_type": "execute_result"
    }
   ],
   "source": [
    "def is_anagram(a, b):\n",
    "    x = list(b)       #puts the letters of b into a list\n",
    "    x.sort()          #sorts the list by alphabetical order\n",
    "    z = ''.join(x)    #joins celements of list back into string\n",
    "    \n",
    "    y = list(a)       #puts the letters of a into a list\n",
    "    y.sort()          #sorts the list\n",
    "    w = ''.join(y)    #joins elements of list back into string\n",
    "    \n",
    "    print w\n",
    "    print z\n",
    "    flag = False\n",
    "    for char in z and w:\n",
    "        flag = flag or z == w  #if the charaacter is eqivalent, becomes true\n",
    "    return flag\n",
    "    \n",
    "\n",
    "is_anagram('listen', 'silent')\n",
    "    \n",
    "    "
   ]
  },
  {
   "cell_type": "markdown",
   "metadata": {},
   "source": [
    "in this case == works but is does not. this is because is checks to see if two objects are the same thing, while == sees if the two values are equivalent"
   ]
  },
  {
   "cell_type": "markdown",
   "metadata": {},
   "source": [
    "### Exercise 8  \n",
    "The (so-called) Birthday Paradox:\n",
    "1. Write a function called `has_duplicates` that takes a list and returns `True` if there is any element that appears more than once. It should not modify the original list.\n",
    "2. If there are 23 students in your class, what are the chances that two of you have the same birthday? You can estimate this probability by generating random samples of 23 birthdays and checking for matches. Hint: you can generate random birthdays with the randint function in the [random module](https://docs.python.org/2/library/random.html).\n",
    "\n",
    "You can read about this problem at http://en.wikipedia.org/wiki/Birthday_paradox, and you can download Allen's solution from http://thinkpython.com/code/birthday.py."
   ]
  },
  {
   "cell_type": "code",
   "execution_count": 88,
   "metadata": {
    "collapsed": false
   },
   "outputs": [
    {
     "data": {
      "text/plain": [
       "True"
      ]
     },
     "execution_count": 88,
     "metadata": {},
     "output_type": "execute_result"
    }
   ],
   "source": [
    "def has_duplicates(list_things):\n",
    "    list_things.sort()\n",
    "    flag = False\n",
    "    for index in range(1, len(list_things)):\n",
    "        flag = flag or list_things[index] == list_things[index-1]\n",
    "    return flag\n",
    "            \n",
    "has_duplicates([0,1,2,4, 3, 3, 3])"
   ]
  },
  {
   "cell_type": "code",
   "execution_count": 94,
   "metadata": {
    "collapsed": false
   },
   "outputs": [
    {
     "name": "stdout",
     "output_type": "stream",
     "text": [
      "Number of students: 23\n",
      "Number of samples: 1000\n"
     ]
    },
    {
     "data": {
      "text/plain": [
       "505"
      ]
     },
     "execution_count": 94,
     "metadata": {},
     "output_type": "execute_result"
    }
   ],
   "source": [
    "import random\n",
    "\n",
    "def has_duplicates(list_things):\n",
    "    list_things.sort()\n",
    "    flag = False\n",
    "    for index in range(1, len(list_things)):\n",
    "        flag = flag or list_things[index] == list_things[index-1]\n",
    "    return flag\n",
    "\n",
    "def random_bdays(n):\n",
    "    list_things = []\n",
    "    for i in range(n):\n",
    "        bday = random.randint(1, 365)\n",
    "        list_things.append(bday)\n",
    "    return list_things\n",
    "\n",
    "def count_matches(students, samples):\n",
    "    count = 0\n",
    "    for i in range(samples):\n",
    "        list_things = random_bdays(students)\n",
    "        if has_duplicates(list_things):\n",
    "            count += 1\n",
    "    return count\n",
    "\n",
    "num_students = input('Number of students: ')\n",
    "num_samples = input('Number of samples: ')\n",
    "count_matches(num_students, num_samples)"
   ]
  },
  {
   "cell_type": "markdown",
   "metadata": {},
   "source": [
    "### Challenge: Exercise 11 (optional)\n",
    "\n",
    "You should read [Chapter 9.1](http://www.greenteapress.com/thinkpython/html/thinkpython010.html) and do Exercise 1 first.\n",
    "\n",
    "To check whether a word is in the word list, you could use the `in` operator, but it would be relatively slow because it searches through the words in order (try it).\n",
    "\n",
    "Because the words are in alphabetical order, we can speed things up with a bisection search (also known as binary search), which is similar to what you do when you look a word up in the dictionary. You start in the middle and check to see whether the word you are looking for comes before the word in the middle of the list. If so, then you search the first half of the list the same way. Otherwise you search the second half.\n",
    "\n",
    "Either way, you cut the remaining search space in half. If the word list has 113,809 words, it will take about 17 steps to find the word or conclude that it’s not there.\n",
    "\n",
    "Write a function called `bisect` that takes a sorted list and a target value and returns the index of the value in the list, if it’s there, or `None` if it’s not.\n",
    "\n",
    "Or you could read the documentation of the `bisect` module and use that! Solution: http://thinkpython.com/code/inlist.py."
   ]
  },
  {
   "cell_type": "code",
   "execution_count": null,
   "metadata": {
    "collapsed": true
   },
   "outputs": [],
   "source": []
  },
  {
   "cell_type": "markdown",
   "metadata": {},
   "source": [
    "## Reading Journal feedback\n",
    "\n",
    "Have any comments on this Reading Journal? Feel free to leave them below and we'll read them when you submit your journal entry. This could include suggestions to improve the exercises, topics you'd like to see covered in class next time, or other feedback.\n",
    "\n",
    "If you have Python questions or run into problems while completing the reading, you should post them to Piazza instead so you can get a quick response before your journal is submitted."
   ]
  },
  {
   "cell_type": "markdown",
   "metadata": {},
   "source": [
    " "
   ]
  }
 ],
 "metadata": {
  "kernelspec": {
   "display_name": "Python 2",
   "language": "python",
   "name": "python2"
  },
  "language_info": {
   "codemirror_mode": {
    "name": "ipython",
    "version": 2
   },
   "file_extension": ".py",
   "mimetype": "text/x-python",
   "name": "python",
   "nbconvert_exporter": "python",
   "pygments_lexer": "ipython2",
   "version": "2.7.6"
  }
 },
 "nbformat": 4,
 "nbformat_minor": 0
}
