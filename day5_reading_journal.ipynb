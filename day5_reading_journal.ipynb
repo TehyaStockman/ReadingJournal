{
 "cells": [
  {
   "cell_type": "markdown",
   "metadata": {},
   "source": [
    "# Day 5 Reading Journal\n",
    "\n",
    "This journal includes several required exercises, but it is meant to encourage active reading more generally.  You should use the journal to take detailed notes, catalog questions, and explore the content from Think Python deeply.\n",
    "\n",
    "Reading: Think Python Chapter 4\n",
    "\n",
    "**Due: Monday, February 8 at 12 noon**\n",
    "\n"
   ]
  },
  {
   "cell_type": "markdown",
   "metadata": {},
   "source": [
    "## [Chapter 4](http://www.greenteapress.com/thinkpython/html/thinkpython005.html)\n",
    "\n",
    "In today's reading, you'll be exploring TurtleWorld!\n",
    "TurtleWorld is part of the [swampy](http://www.greenteapress.com/thinkpython/swampy/) package, written by Allen Downey.\n",
    "As part of the [Get Set](https://sites.google.com/site/sd16spring/home/assignments-and-mini-projects/setup-your-environment) assignment, you installed the swampy package using the pip Python package management tool. If you somehow missed that step or you see errors when you try to import TurtleWorld, you can install swampy by running:\n",
    "\n",
    "```\n",
    "sudo pip install swampy\n",
    "```\n",
    "\n",
    "at the command line.\n",
    "\n",
    "### Turtle wrangling\n",
    "\n",
    "You can always run your code as separate Python scripts, but here are a few tips for mixing TurtleWorld with Jupyter notebook:\n",
    "\n",
    " - TurtleWorld will appear in a new GUI window, rather than inline in the notebook like typical results do\n",
    " - You will not be able to close the TurtleWorld window unless you run `wait_for_user()` as the last line of your code.\n",
    " - Jupyter notebook works like one big Python script, even though it is broken up into sections. This means that you could create a Turtle in one cell, move it in a later cell, and then `wait_for_user()` in yet another. Despite this, it might be easier to treat each cell in this assignment as a separate script, creating a new world at the beginning and destroying it at the end of each."
   ]
  },
  {
   "cell_type": "markdown",
   "metadata": {},
   "source": [
    "interface design\n",
    "package: a collection of modules\n",
    "instance: member of a set\n",
    "encapsulation: wrapping a piece of code in a function\n",
    "generalization: makes a function more general\n",
    "refactoring: process of rearanging code to improve interface and code re-use\n",
    "  often you'll understand problem more/better throughout and will make sense to refactor\n",
    "  \n",
    "development plan:\n",
    "1.start by writing small function with no definitions\n",
    "2.once working, encapsulate it/give it a name\n",
    "3.generalize function with appropriate parameters\n",
    "4.repeat steps 1-3 until have working function, debugging\n",
    "5.look for oportunities to improve program by refactoring\n",
    "\n",
    "docstring: '''......''' gives information of what the function is about, can also add tests to see if function is     working correctly, explains effect of each parameter\n",
    "preconditions: need to be true before function starts (ie. input arguments)\n",
    "  responsibility of caller, if caller violates precondition, function doesn't work correctly\n",
    "post-conditions: conditions at the end of a function"
   ]
  },
  {
   "cell_type": "markdown",
   "metadata": {},
   "source": [
    "### Get started\n",
    "\n",
    "Run the code in the cell below and make sure everything works. You should see brave Alice spring into the world and run forward. You can close the window when you're done by clicking on the 'X'. If this simple test doesn't work, check your swampy install (especially if you get an `ImportError`) and ask for help."
   ]
  },
  {
   "cell_type": "code",
   "execution_count": 2,
   "metadata": {
    "collapsed": true
   },
   "outputs": [],
   "source": [
    "from swampy.TurtleWorld import *\n",
    "\n",
    "# Create the world, and a turtle to put in it\n",
    "world = TurtleWorld()\n",
    "alice = Turtle()\n",
    "\n",
    "# Get moving, turtle!\n",
    "fd(alice, 50)\n",
    "\n",
    "# Wait for the user to close the window\n",
    "wait_for_user()"
   ]
  },
  {
   "cell_type": "markdown",
   "metadata": {
    "is_question": true,
    "problem": "Section 4.3"
   },
   "source": [
    "### Section 4.3 exercises\n",
    "Work through exercises 1-5 in Section 4.3, creating the `square`, `polygon`, `circle`, and `arc` functions. You can reference Allen's solutions, but please try the problems on your own first."
   ]
  },
  {
   "cell_type": "code",
   "execution_count": 2,
   "metadata": {
    "collapsed": false,
    "solution": "Section 4.3"
   },
   "outputs": [],
   "source": [
    "import math\n",
    "from swampy.TurtleWorld import *\n",
    "\n",
    "world = TurtleWorld()\n",
    "alice = Turtle()\n",
    "\n",
    "def square(world, alice, length):\n",
    "    for i in range(4):\n",
    "        fd(alice, length)\n",
    "        lt(alice)\n",
    "        \n",
    "def polygon(world, alice, length, number_sides):\n",
    "    for i in range(number_sides):\n",
    "        fd(alice, length)\n",
    "        lt(alice, 360.0/number_sides)\n",
    "        \n",
    "def circle (world, alice, r):\n",
    "    \n",
    "    circumference = 2*math.pi*r\n",
    "    n = int(circumference / 3) + 1\n",
    "    length = circumference/n\n",
    "    polygon(world, alice, length, n)\n",
    "\n",
    "#circle(world, alice, 10)\n",
    "\n",
    "wait_for_user()"
   ]
  },
  {
   "cell_type": "code",
   "execution_count": 22,
   "metadata": {
    "collapsed": false
   },
   "outputs": [],
   "source": [
    "import math\n",
    "from swampy.TurtleWorld import *\n",
    "\n",
    "world = TurtleWorld()\n",
    "alice = Turtle()\n",
    "alice.delay = 0\n",
    "\n",
    "def poly(alice, n, length, angle):\n",
    "    for i in range(n):\n",
    "        fd(alice, length)\n",
    "        lt(alice, angle)\n",
    "        \n",
    "def polygon2(alice, n, length):\n",
    "    angle = 360.0/n\n",
    "    poly(alice, n, length, angle)\n",
    "\n",
    "\n",
    "def arc(alice, r, angle):\n",
    "    arc_length = 2 * math.pi * r * angle/360\n",
    "    n = int(arc_length / 3) +1\n",
    "    step_angle = float(angle)/n\n",
    "    step_len = arc_length/n\n",
    "    poly(alice, n, step_len, step_angle)\n",
    "    \n",
    "arc(alice, 50, 90)\n",
    "wait_for_user()"
   ]
  },
  {
   "cell_type": "markdown",
   "metadata": {
    "is_question": true,
    "problem": "More fun"
   },
   "source": [
    "### Exercise: More fun with Turtles!\n",
    "Complete at least one of Exercise 2, 3, 4, or 5. If you come up with some cool drawings you'd like to share with the rest of the class, let us know!"
   ]
  },
  {
   "cell_type": "code",
   "execution_count": 26,
   "metadata": {
    "collapsed": false,
    "solution": "More fun"
   },
   "outputs": [],
   "source": [
    "import math\n",
    "from swampy.TurtleWorld import *\n",
    "world = TurtleWorld()\n",
    "bob = Turtle()\n",
    "bob.delay = 0\n",
    "\n",
    "def poly1(bob, n, length, angle):\n",
    "    for i in range(n):\n",
    "        fd(bob, length)\n",
    "        lt(bob, angle)\n",
    "\n",
    "def arc1(bob, r, angle):\n",
    "    arc_length = 2 * math.pi * r * angle/360\n",
    "    n = int(arc_length / 3) +1\n",
    "    step_angle = float(angle)/n\n",
    "    step_len = arc_length/n\n",
    "    poly1(bob, n, step_len, step_angle)\n",
    "    \n",
    "def petal(bob, r, angle):\n",
    "    '''calls arc1 to create each petal shape'''\n",
    "    comp = 90 - angle    #complement of the angle to then be added to the turn\n",
    "    arc1(bob, r, angle)  \n",
    "    lt(bob, 90 + comp)\n",
    "    arc1(bob, r, angle)\n",
    "    \n",
    "def flower1(bob, r, angle):\n",
    "    '''calls petal to create a flower shape'''\n",
    "    for i in range(360/angle):  #number of petals is related to the angle\n",
    "        petal(bob, r, angle)\n",
    "        \n",
    "def complex_flower1(bob, r, angle):\n",
    "    '''calls flower1 to create a more complex flower with more petals'''\n",
    "    flower1(bob, r, angle)\n",
    "    lt(bob, angle/2)\n",
    "    flower1(bob, r, angle)\n",
    "    r = 4*r                 #adding an outer group of petals\n",
    "    angle = angle/2\n",
    "    flower1(bob, r, angle)\n",
    "    die(bob)               #makes bob disappear\n",
    "\n",
    "complex_flower1(bob, 100, 90)\n",
    "\n",
    "wait_for_user()"
   ]
  },
  {
   "cell_type": "markdown",
   "metadata": {},
   "source": [
    "## Reading Journal feedback\n",
    "\n",
    "Have any comments on this Reading Journal? Feel free to leave them below and we'll read them when you submit your journal entry. This could include suggestions to improve the exercises, topics you'd like to see covered in class next time, or other feedback.\n",
    "\n",
    "If you have Python questions or run into problems while completing the reading, you should post them to Piazza instead so you can get a quick response before your journal is submitted."
   ]
  },
  {
   "cell_type": "markdown",
   "metadata": {},
   "source": [
    " "
   ]
  }
 ],
 "metadata": {
  "kernelspec": {
   "display_name": "Python 2",
   "language": "python",
   "name": "python2"
  },
  "language_info": {
   "codemirror_mode": {
    "name": "ipython",
    "version": 2
   },
   "file_extension": ".py",
   "mimetype": "text/x-python",
   "name": "python",
   "nbconvert_exporter": "python",
   "pygments_lexer": "ipython2",
   "version": "2.7.6"
  }
 },
 "nbformat": 4,
 "nbformat_minor": 0
}
