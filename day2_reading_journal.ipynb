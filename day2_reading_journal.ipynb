{
 "cells": [
  {
   "cell_type": "markdown",
   "metadata": {},
   "source": [
    "# Day 2 Reading Journal\n",
    "\n",
    "This journal includes several required exercises, but it is meant to encourage active reading more generally.  You should use the journal to take detailed notes, catalog questions, and explore the content from Think Python deeply.\n",
    "\n",
    "Reading: Think Python Chapter 6.1-6.4, 7\n",
    "\n",
    "**Due: Thursday, January 28 at 12 noon**\n",
    "\n"
   ]
  },
  {
   "cell_type": "markdown",
   "metadata": {},
   "source": [
    "## [Chapter 6.1-6.4](http://www.greenteapress.com/thinkpython/html/thinkpython007.html)\n",
    "\n",
    "Note: the exercise numbers below match up with the reading for ease of cross referencing."
   ]
  },
  {
   "cell_type": "markdown",
   "metadata": {},
   "source": [
    "6.1 Return Values:\n",
    "**Quick check:** What is a _fruitful function_?\n",
    "A fruitful function is a function that returns a value => the return statement includes an expression\n",
    "temporary value: not necessarily needed, but can make debugging easier\n",
    "dead code: code that is after a return statement that isn't reached\n",
    "\n",
    "6.2 Incremental Development\n",
    "incremental development: adding/testing small chunks of code at a time\n",
    "Scafolding: taking things away that were useful for building/testing the program but become obsolete\n",
    "   ie. you can have 'print' in places to see that things are working as they should, but then remove them\n",
    "Key Aspects of Coding Process:\n",
    "   1.start with working program, make small changes\n",
    "   2.temporary variables to display/check to see if code is working\n",
    "   3.once working, can scaffold/consolidate code (as long as still legible)\n",
    "\n",
    "6.3 Composition\n",
    "composition: calling one function inside of another\n",
    "\n",
    "6.4 Boolean Functions\n",
    "functions can return booleans; good for hiding complicated tests inside test functions\n",
    "seems to really shorten code, also seems easy to forget about them and be redundant\n"
   ]
  },
  {
   "cell_type": "code",
   "execution_count": null,
   "metadata": {
    "collapsed": true
   },
   "outputs": [],
   "source": [
    "#Example (composition)\n",
    "def distance(x1, y1, x2, y2):\n",
    "    dx = x2 - x1\n",
    "    dy = y2 - y1\n",
    "    dsquared = dx**2 + dy**2\n",
    "    result = math.sqrt(dsquared)\n",
    "    return result\n",
    "\n",
    "radius = distance(xc, yx, xp, yp)\n",
    "\n",
    "def area(radius):\n",
    "    return math.pi * radius**2\n",
    "\n",
    "def circle_area(xc, yc, xp, yp):\n",
    "    radius = distance(xc, yc, xp, yp)\n",
    "    result = area(radius)\n",
    "    return result"
   ]
  },
  {
   "cell_type": "markdown",
   "metadata": {},
   "source": [
    " "
   ]
  },
  {
   "cell_type": "markdown",
   "metadata": {},
   "source": [
    "### Exercise 1  \n",
    "Write a `compare` function that returns `1` if `x > y`, `0` if `x == y`, and `-1` if `x < y`."
   ]
  },
  {
   "cell_type": "code",
   "execution_count": 3,
   "metadata": {
    "collapsed": false
   },
   "outputs": [
    {
     "name": "stdout",
     "output_type": "stream",
     "text": [
      "Input Variables\n",
      "x = 4\n",
      "y = 5\n"
     ]
    },
    {
     "data": {
      "text/plain": [
       "-1"
      ]
     },
     "execution_count": 3,
     "metadata": {},
     "output_type": "execute_result"
    }
   ],
   "source": [
    "def compare (x, y):\n",
    "    if x > y:\n",
    "        return 1\n",
    "    if x == y:\n",
    "        return 0\n",
    "    if x < y:\n",
    "        return -1\n",
    "    \n",
    "print 'Input Variables'\n",
    "x = input('x = ')\n",
    "y = input('y = ')\n",
    "\n",
    "compare(x, y)"
   ]
  },
  {
   "cell_type": "markdown",
   "metadata": {},
   "source": [
    "**Quick check:** Modify the `absolute_value` function so that it returns the correct result for all integer inputs."
   ]
  },
  {
   "cell_type": "code",
   "execution_count": 6,
   "metadata": {
    "collapsed": false
   },
   "outputs": [
    {
     "name": "stdout",
     "output_type": "stream",
     "text": [
      "x = 0\n"
     ]
    },
    {
     "data": {
      "text/plain": [
       "0"
      ]
     },
     "execution_count": 6,
     "metadata": {},
     "output_type": "execute_result"
    }
   ],
   "source": [
    "def absolute_value(x):\n",
    "    if x < 0:\n",
    "        return -x\n",
    "    if x >= 0:\n",
    "        return x\n",
    "    \n",
    "x = input('x = ')\n",
    "\n",
    "absolute_value(x)\n"
   ]
  },
  {
   "cell_type": "markdown",
   "metadata": {},
   "source": [
    "### Exercise 2  \n",
    "Use incremental development to write a function called `hypotenuse` that returns the length of the hypotenuse of a right triangle given the lengths of the two legs as arguments. Record each stage of the development process as you go, using as many cells as you need."
   ]
  },
  {
   "cell_type": "code",
   "execution_count": 1,
   "metadata": {
    "collapsed": false
   },
   "outputs": [
    {
     "name": "stdout",
     "output_type": "stream",
     "text": [
      "Input Triangle Leg Lengths\n"
     ]
    }
   ],
   "source": [
    "print 'Input Triangle Leg Lengths'"
   ]
  },
  {
   "cell_type": "code",
   "execution_count": 8,
   "metadata": {
    "collapsed": false
   },
   "outputs": [
    {
     "name": "stdout",
     "output_type": "stream",
     "text": [
      "Input Triangle Leg Lengths\n",
      "a = 3\n",
      "b = 4\n"
     ]
    }
   ],
   "source": [
    "print 'Input Triangle Leg Lengths'\n",
    "a = input('a = ')\n",
    "b = input('b = ')\n"
   ]
  },
  {
   "cell_type": "code",
   "execution_count": 13,
   "metadata": {
    "collapsed": false
   },
   "outputs": [
    {
     "name": "stdout",
     "output_type": "stream",
     "text": [
      "Input Triangle Leg Lengths\n",
      "a = 3\n",
      "b = 4\n"
     ]
    },
    {
     "data": {
      "text/plain": [
       "5.0"
      ]
     },
     "execution_count": 13,
     "metadata": {},
     "output_type": "execute_result"
    }
   ],
   "source": [
    "print 'Input Triangle Leg Lengths'\n",
    "a = input('a = ')\n",
    "b = input('b = ')\n",
    "\n",
    "import math\n",
    "\n",
    "def get_hypotenuse(a, b):\n",
    "    return math.sqrt(a**2 + b**2)\n",
    "    \n",
    "\n",
    "get_hypotenuse(a, b)\n"
   ]
  },
  {
   "cell_type": "markdown",
   "metadata": {},
   "source": [
    "### Exercise 3  \n",
    "Write a function `is_between(x, y, z)` that returns `True` if `x ≤ y ≤ z` or `False` otherwise."
   ]
  },
  {
   "cell_type": "code",
   "execution_count": 15,
   "metadata": {
    "collapsed": false
   },
   "outputs": [
    {
     "name": "stdout",
     "output_type": "stream",
     "text": [
      "Input Variables\n",
      "x = 4\n",
      "y = 5\n",
      "z = 2\n"
     ]
    },
    {
     "data": {
      "text/plain": [
       "False"
      ]
     },
     "execution_count": 15,
     "metadata": {},
     "output_type": "execute_result"
    }
   ],
   "source": [
    "print 'Input Variables'\n",
    "x = input('x = ')\n",
    "y = input('y = ')\n",
    "z = input('z = ')\n",
    "\n",
    "def is_between(x, y, z):\n",
    "    if x <= y <= z:\n",
    "        return True\n",
    "    else:\n",
    "        return False\n",
    "    \n",
    "is_between(x, y, z)\n",
    "  "
   ]
  },
  {
   "cell_type": "code",
   "execution_count": 2,
   "metadata": {
    "collapsed": false
   },
   "outputs": [
    {
     "name": "stdout",
     "output_type": "stream",
     "text": [
      "Input Variables\n",
      "x = 3\n",
      "y = 4\n",
      "z = 5\n",
      "y is between x and z\n"
     ]
    }
   ],
   "source": [
    "print 'Input Variables'\n",
    "x = input('x = ')\n",
    "y = input('y = ')\n",
    "z = input('z = ')\n",
    "\n",
    "def is_between(x, y, z):\n",
    "    return x <= y <= z\n",
    "    \n",
    "def between(x, y, z):\n",
    "    if is_between(x, y, z):\n",
    "        print 'y is between x and z'\n",
    "    else:\n",
    "        print 'nope'\n",
    "\n",
    "between(x, y, z)"
   ]
  },
  {
   "cell_type": "markdown",
   "metadata": {},
   "source": [
    "## [Chapter 7](http://www.greenteapress.com/thinkpython/html/thinkpython008.html)\n",
    "\n"
   ]
  },
  {
   "cell_type": "markdown",
   "metadata": {},
   "source": [
    "7.1 Multiple Variables\n",
    "Legal to make more than one assignment to a variable => uses the most recent assignment\n",
    "'=' a sign of assignment, not of equality (like matlab)\n",
    "   equality means symmetry relation, assignment does not\n",
    "   must have variable on left, any numbers on right\n",
    "  \n",
    "7.2 Updating Variables\n",
    "update: form of variable assignment in which the new variable is related to the old variable of the same name (x = x + 1)\n",
    "initialize a variable: must first define a variable before you can update it\n",
    "increment: updating a variable by adding\n",
    "decrement: updating a variable by subtracting\n",
    "\n",
    "7.3 While Statement\n",
    "iteration: use recurssion to perform repetition\n",
    "flow of execution for a while statement:\n",
    "   1. evaluate condition yielding true or false\n",
    "   2. if condition is false, exit while statement and continue to execussion at next statement\n",
    "   3. if condition true, execute body, go back to sep 1\n",
    "  this type of flow is called a loop: it loops back into itself\n",
    "infinite loop: if you are not changing value somehow, the loop can run on forever\n",
    "\n",
    "7.4 Break\n",
    "break: statement that allows you to jump out of a loop\n",
    "  allows you to stop affirmatively (stop when...) instead of negatively (keep going until...)\n",
    "  \n",
    "7.5 Square Roots\n",
    "sometimes use loops in iterative way to get closer and closer to result, have to understand when close is close enough so that the program can stop running/give an answer\n",
    "\n",
    "7.6 Algorithms\n",
    "algorithm: a mechanical process for solving a category of problems \n",
    "  each step follows from the last from a simple set of rules\n",
    "  \n",
    "7.7 Debugging\n",
    "debugging by bisection: take half of code, narrow take another half etc. until find problem\n",
    "   think about places where most likely errors would occur, check there first"
   ]
  },
  {
   "cell_type": "markdown",
   "metadata": {},
   "source": [
    "**Quick check:** How do you test for equality in Python?\n",
    "You can test for equality by using a == and breaking off a loop if it occurs. You can also test to see if things are close enough to equal by breaking the statement if the abs. value of the difference between two numbers in less than an extremely small decimal."
   ]
  },
  {
   "cell_type": "markdown",
   "metadata": {},
   "source": [
    " "
   ]
  },
  {
   "cell_type": "markdown",
   "metadata": {},
   "source": [
    "**Challenge:** Prove/disprove the Collatz conjecture :)"
   ]
  },
  {
   "cell_type": "markdown",
   "metadata": {},
   "source": [
    "### Exercise 2  \n",
    "Encapsulate the loop from Section 7.5 in a function called `square_root` that takes `a` as a parameter, chooses a reasonable value of `x`, and returns an estimate of the square root of `a`."
   ]
  },
  {
   "cell_type": "code",
   "execution_count": 4,
   "metadata": {
    "collapsed": false
   },
   "outputs": [
    {
     "name": "stdout",
     "output_type": "stream",
     "text": [
      "Let's find a square root!\n",
      "I'm finding the square root of: 9\n"
     ]
    },
    {
     "data": {
      "text/plain": [
       "3.0000000000003153"
      ]
     },
     "execution_count": 4,
     "metadata": {},
     "output_type": "execute_result"
    }
   ],
   "source": [
    "print \"Let's find a square root!\"\n",
    "a = input(\"I'm finding the square root of: \")\n",
    "\n",
    "def square_root(a):\n",
    "    # we will guess that x will be 1/2 of a, to start\n",
    "    x =  0.75 * float(a)\n",
    "    epsilon = 0.000001\n",
    "    while True:\n",
    "        y = (x + a/x) / 2\n",
    "        if abs(y-x) < epsilon:\n",
    "            break\n",
    "        x = y\n",
    "    return x\n",
    "\n",
    "    \n",
    "square_root(a)"
   ]
  },
  {
   "cell_type": "markdown",
   "metadata": {},
   "source": [
    "### Exercise 3  \n",
    "To test the square root algorithm you developed in Exercise 2, you could compare it with Python's `math.sqrt` function. Write a function named `test_square_root` that prints a table like this:\n",
    "\n",
    "```python\n",
    "1.0 1.0           1.0           0.0\n",
    "2.0 1.41421356237 1.41421356237 2.22044604925e-16\n",
    "3.0 1.73205080757 1.73205080757 0.0\n",
    "4.0 2.0           2.0           0.0\n",
    "5.0 2.2360679775  2.2360679775  0.0\n",
    "6.0 2.44948974278 2.44948974278 0.0\n",
    "7.0 2.64575131106 2.64575131106 0.0\n",
    "8.0 2.82842712475 2.82842712475 4.4408920985e-16\n",
    "9.0 3.0           3.0           0.0\n",
    "```\n",
    "\n",
    "The first column is a number, `a`; the second column is the square root of a computed with the function from Section 7.5; the third column is the square root computed by `math.sqrt`; the fourth column is the absolute value of the difference between the two estimates."
   ]
  },
  {
   "cell_type": "code",
   "execution_count": 77,
   "metadata": {
    "collapsed": false
   },
   "outputs": [
    {
     "name": "stdout",
     "output_type": "stream",
     "text": [
      "1 1.0           1.0           0.0          \n",
      "2 1.41421356237 1.41421356237 2.22044604925e-16\n",
      "3 1.73205080757 1.73205080757 0.0          \n",
      "4 2.0           2.0           0.0          \n",
      "5 2.2360679775  2.2360679775  0.0          \n",
      "6 2.44948974278 2.44948974278 0.0          \n",
      "7 2.64575131106 2.64575131106 0.0          \n",
      "8 2.82842712475 2.82842712475 4.4408920985e-16\n",
      "9 3.0           3.0           0.0          \n"
     ]
    }
   ],
   "source": [
    "import math\n",
    "\n",
    "\n",
    "def test_square_root():\n",
    "    for a in range (1,10):\n",
    "        b = square_root(a) \n",
    "        c = math.sqrt(a) \n",
    "        d = abs(b-c)\n",
    "       \n",
    "        print a, column(str(b)), column(str(c)), column(str(d))           \n",
    "        \n",
    "def column(s):\n",
    "    return s + ' ' * (13-len(s))\n",
    "\n",
    "\n",
    "def square_root(a):\n",
    "\n",
    "    x =  0.75 * float(a)\n",
    "    epsilon = 0.000000000000001\n",
    "    while True:\n",
    "        y = (x + a/x) / 2\n",
    "        if abs(y-x) < epsilon:\n",
    "            break\n",
    "        x = y\n",
    "    return x\n",
    "\n",
    "test_square_root()"
   ]
  },
  {
   "cell_type": "markdown",
   "metadata": {},
   "source": [
    "### Challenge: Exercise 5  (optional)\n",
    "The mathematician Srinivasa Ramanujan found an infinite series that can be used to generate a numerical approximation of\n",
    "$\\frac{1}{\\pi}$:\n",
    "\n",
    "$$\\frac{1}{\\pi} = \\frac{2 \\sqrt{2}}{9801} \\sum_{k=0}^{\\infty} \\frac{(4k)! (1103+26390k)}{(k!)^4 396^{4k}}$$\n",
    " \n",
    "Write a function called `estimate_pi` that uses this formula to compute and return an estimate of $\\pi$. It should use a `while` loop to compute terms of the summation until the last term is smaller than `1e-15` (which is Python notation for $10^{−15}$). You can check the result by comparing it to `math.pi`.\n",
    "\n",
    "[Possible solution](http://thinkpython.com/code/pi.py) (give the exercise a try before viewing the solution)"
   ]
  },
  {
   "cell_type": "code",
   "execution_count": null,
   "metadata": {
    "collapsed": true
   },
   "outputs": [],
   "source": [
    "def factorial(n):\n",
    "    # computes the factorial of n \n",
    "    if n == 0:\n",
    "        return 1\n",
    "    else:\n",
    "        recurse = factorial(n-1)\n",
    "        result = n * recurse\n",
    "        return result\n",
    "  \n",
    "n = input('n = ')\n",
    "factorial(n)\n"
   ]
  },
  {
   "cell_type": "code",
   "execution_count": 72,
   "metadata": {
    "collapsed": false
   },
   "outputs": [
    {
     "name": "stdout",
     "output_type": "stream",
     "text": [
      "3.14159265359\n",
      "3.14159265359\n"
     ]
    },
    {
     "data": {
      "text/plain": [
       "0.0"
      ]
     },
     "execution_count": 72,
     "metadata": {},
     "output_type": "execute_result"
    }
   ],
   "source": [
    "import math\n",
    "def factorial(n):\n",
    "    # computes the factorial of n \n",
    "    if n == 0:\n",
    "        return 1\n",
    "    else:\n",
    "        recurse = factorial(n-1)\n",
    "        result = n * recurse\n",
    "        return result\n",
    "\n",
    "def estimate_pi():\n",
    "    total = 0\n",
    "    k = 0\n",
    "    factor = 2 * math.sqrt(2) / 9801\n",
    "    while True:\n",
    "        term = (factor * factorial(4*k) * (1103 + 26390*k))/ (factorial(k)**4 * 396**(4*k))\n",
    "        total = total + term\n",
    "        \n",
    "        if abs(term) < 1e-15: \n",
    "            break\n",
    "        k = k + 1\n",
    "\n",
    "    return 1 / total\n",
    "\n",
    "print estimate_pi()\n",
    "print math.pi\n",
    "abs(math.pi-estimate_pi())\n"
   ]
  },
  {
   "cell_type": "markdown",
   "metadata": {},
   "source": [
    "+=  means to add to the previous value to get the new value i.e. n+=1 => n = n + 1"
   ]
  },
  {
   "cell_type": "markdown",
   "metadata": {},
   "source": [
    "## Reading Journal feedback\n",
    "\n",
    "Have any comments on this Reading Journal? Feel free to leave them below and we'll read them when you submit your journal entry. This could include suggestions to improve the exercises, topics you'd like to see covered in class next time, or other feedback.\n",
    "\n",
    "If you have Python questions or run into problems while completing the reading, you should post them to Piazza instead so you can get a quick response before your journal is submitted."
   ]
  },
  {
   "cell_type": "markdown",
   "metadata": {},
   "source": [
    " "
   ]
  }
 ],
 "metadata": {
  "kernelspec": {
   "display_name": "Python 2",
   "language": "python",
   "name": "python2"
  },
  "language_info": {
   "codemirror_mode": {
    "name": "ipython",
    "version": 2
   },
   "file_extension": ".py",
   "mimetype": "text/x-python",
   "name": "python",
   "nbconvert_exporter": "python",
   "pygments_lexer": "ipython2",
   "version": "2.7.6"
  }
 },
 "nbformat": 4,
 "nbformat_minor": 0
}
